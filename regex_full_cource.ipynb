{
 "cells": [
  {
   "cell_type": "code",
   "execution_count": 2,
   "id": "e3a6d4b3",
   "metadata": {},
   "outputs": [],
   "source": [
    "import re"
   ]
  },
  {
   "cell_type": "markdown",
   "id": "b8fc84ef",
   "metadata": {},
   "source": [
    "## **BIỂU THỨC CHÍNH QUY, `re` LIB PYTHON**\n",
    "\n",
    "### **1. Tiền tố `r\"\"`**\n",
    "\n",
    "Đây là một **raw string** (chuỗi thô). Tiền tố `r` trước dấu nháy kép (`\"`) có vai trò **vô hiệu hóa các ký tự escape**, nghĩa là Python sẽ **không xử lý các ký tự như `\\n`, `\\t`, `\\\\`... theo cách thông thường**.\n",
    "\n",
    " Nếu không dùng `r\"\"`, ta sẽ phải **gõ thêm một dấu `\\` để escape**, điều này khiến code khó đọc và dễ sai.\n",
    "\n",
    "##### ***Ví dụ so sánh:***\n",
    "\n",
    "| Mục tiêu                        | Không dùng `r\"\"`             | Dùng `r\"\"`                  |\n",
    "|---------------------------------|------------------------------|-----------------------------|\n",
    "| Tìm dấu xuống dòng              | `\"\\\\n\"`                      | `r\"\\n\"`                     |\n",
    "| Regex tìm chữ số                | `\"\\\\d+\"`                     | `r\"\\d+\"`                    |\n",
    "| Regex tìm ký tự không phải số   | `\"\\\\D\"`                      | `r\"\\D\"`                     |\n",
    "\n",
    "##### ***Ví dụ sử dụng:***"
   ]
  },
  {
   "cell_type": "code",
   "execution_count": 3,
   "id": "bc6cd9b4",
   "metadata": {},
   "outputs": [
    {
     "name": "stdout",
     "output_type": "stream",
     "text": [
      "['25', '123']\n"
     ]
    }
   ],
   "source": [
    "pattern = r\"\\d+\"  # tìm chuỗi gồm 1 hoặc nhiều chữ số\n",
    "\n",
    "result = re.findall(pattern, \"Tuổi: 25, Số nhà: 123\")\n",
    "print(result)  # ['25', '123']"
   ]
  },
  {
   "cell_type": "markdown",
   "id": "25f2f03f",
   "metadata": {},
   "source": [
    "### **2. Các phương thức phổ biến**\n",
    "\n",
    "#### **2.1. Phương thức `re.compile()`**\n",
    "\n",
    "Phương thức `re.compile()` được dùng để **biên dịch một biểu thức chính quy (regex)** thành một **đối tượng pattern**, giúp ta có thể tái sử dụng nhiều lần một cách hiệu quả và rõ ràng hơn.\n",
    "\n",
    "##### ***Mục đích***\n",
    "- Giúp **viết code rõ ràng và gọn gàng hơn** khi cần sử dụng cùng một biểu thức chính quy nhiều lần. \n",
    "\n",
    "- Tránh việc phải truyền lại chuỗi regex cho từng phương thức khác (`match()`, `search()`, `findall()`, ...).\n",
    "\n",
    "\n",
    "##### ***Cú pháp***\n",
    "\n",
    "```python\n",
    "pattern = re.compile(r\"biểu_thức_chính_quy\")\n"
   ]
  },
  {
   "cell_type": "code",
   "execution_count": 5,
   "id": "ded944ab",
   "metadata": {},
   "outputs": [
    {
     "name": "stdout",
     "output_type": "stream",
     "text": [
      "['alice@example.com', 'bob@test.org']\n",
      "Tìm thấy: alice@example.com\n"
     ]
    }
   ],
   "source": [
    "# Biên dịch biểu thức chính quy tìm địa chỉ email\n",
    "pattern = re.compile(r\"\\w+@\\w+\\.\\w+\")\n",
    "\n",
    "text = \"Liên hệ: alice@example.com hoặc bob@test.org\"\n",
    "\n",
    "# Tìm tất cả email trong chuỗi\n",
    "emails = pattern.findall(text)\n",
    "print(emails)  # ['alice@example.com', 'bob@test.org']\n",
    "\n",
    "# Tìm vị trí đầu tiên có khớp\n",
    "match = pattern.search(text)\n",
    "if match:\n",
    "    print(\"Tìm thấy:\", match.group())  # alice@example.com"
   ]
  },
  {
   "cell_type": "markdown",
   "id": "29f28a89",
   "metadata": {},
   "source": [
    "#### **2.2. Phương thức `re.search()`**\n",
    "\n",
    "Phương thức `re.search()` được dùng để **quét (scan) toàn bộ chuỗi**, tìm **vị trí đầu tiên** nơi biểu thức chính quy khớp. Nếu tìm được, hàm sẽ trả về một **đối tượng match** chứa thông tin chi tiết; nếu không tìm thấy, trả về `None`.\n",
    "\n",
    "##### ***Chi tiết***\n",
    "- `re.search()` sẽ quét toàn bộ chuỗi đầu vào để tìm **vị trí đầu tiên** mà biểu thức chính quy khớp với chuỗi. Nếu có khớp, nó trả về một **đối tượng match** tương ứng. Nếu **không có vị trí nào** trong chuỗi khớp với biểu thức, hàm sẽ trả về `None`.\n",
    "\n",
    "🔸 Lưu ý: Điều này **khác với việc biểu thức chính quy khớp với một chuỗi rỗng (`zero-length match`)**. Ví dụ, nếu biểu thức được thiết kế để khớp với chuỗi rỗng, `re.search()` vẫn có thể trả về match object tại vị trí đó.\n",
    "\n",
    "\n",
    "##### ***Cú pháp***\n",
    "\n",
    "```python\n",
    "re.search(pattern, string, flags=0)\n"
   ]
  },
  {
   "cell_type": "code",
   "execution_count": 9,
   "id": "f4ce57ae",
   "metadata": {},
   "outputs": [
    {
     "name": "stdout",
     "output_type": "stream",
     "text": [
      "Tìm thấy mã vạch: 5394928472943\n",
      "Vị trí: (28, 41)\n"
     ]
    }
   ],
   "source": [
    "import re\n",
    "\n",
    "text = \"Sản phẩm ABC có mã vạch là: 5394928472943 9558378578349\"\n",
    "\n",
    "match = re.search(r\"\\d{13}\", text)\n",
    "\n",
    "if match:\n",
    "    print(\"Tìm thấy mã vạch:\", match.group())  # 8934567890123\n",
    "    print(\"Vị trí:\", match.span())             # (29, 42)\n",
    "else:\n",
    "    print(\"Không tìm thấy mã vạch.\")\n"
   ]
  },
  {
   "cell_type": "markdown",
   "id": "9ab3b94f",
   "metadata": {},
   "source": [
    "#### **2.3. Phương thức `re.match()`**\n",
    "\n",
    "Phương thức `re.match()` trong Python dùng để **kiểm tra xem chuỗi có bắt đầu bằng mẫu regex hay không**. Nếu **một phần ở đầu chuỗi** khớp với biểu thức chính quy, nó trả về một **đối tượng match**; nếu không, trả về `None`.\n",
    "\n",
    "##### ***Chi tiết***\n",
    "> `re.match(pattern, string, flags=0)` sẽ kiểm tra xem **chuỗi đầu vào có khớp với biểu thức chính quy ngay từ vị trí đầu tiên (vị trí 0)** hay không. Nếu có, trả về một match object. Nếu không, trả về `None`.\n",
    "\n",
    "🔸 Lưu ý:\n",
    "- Dù ở chế độ `re.MULTILINE`, `re.match()` **chỉ kiểm tra tại vị trí bắt đầu của toàn bộ chuỗi**, **không áp dụng cho từng dòng**.\n",
    "\n",
    "- Điều này **khác với `re.search()`**, vốn tìm khớp ở **bất kỳ vị trí nào** trong chuỗi.\n",
    "\n",
    "\n",
    "##### ***Cú pháp***\n",
    "\n",
    "```python\n",
    "re.search(pattern, string, flags=0)\n"
   ]
  },
  {
   "cell_type": "code",
   "execution_count": null,
   "id": "2224602b",
   "metadata": {},
   "outputs": [],
   "source": [
    "import re\n",
    "\n",
    "text = \"Python is powerful\"\n",
    "match = re.match(r\"Python\", text)\n",
    "\n",
    "if match:\n",
    "    print(\"Khớp:\", match.group())  # Python\n",
    "else:\n",
    "    print(\"Không khớp\")\n",
    "\n",
    "\n",
    "text2 = \"Ngôn ngữ Python rất phổ biến\"\n",
    "match = re.match(r\"Python\", text2)\n",
    "\n",
    "print(match)  # None, vì \"Python\" không nằm ở đầu chuỗi"
   ]
  },
  {
   "cell_type": "code",
   "execution_count": 12,
   "id": "f2a6be0e",
   "metadata": {},
   "outputs": [
    {
     "name": "stdout",
     "output_type": "stream",
     "text": [
      "None\n"
     ]
    }
   ],
   "source": [
    "# Ví dụ nâng cao: MULTILINE không ảnh hưởng match()\n",
    "text = \"First line\\nSecond line\"\n",
    "\n",
    "match = re.match(r\"Second\", text, flags=re.MULTILINE)\n",
    "print(match)  # None, vì 'Second' không ở đầu toàn bộ chuỗi"
   ]
  },
  {
   "cell_type": "markdown",
   "id": "a279c0f5",
   "metadata": {},
   "source": [
    "#### **2.4. Phương thức `re.fullmatch()`**\n",
    "\n",
    "Phương thức `re.fullmatch()` dùng để kiểm tra xem **toàn bộ chuỗi** có **hoàn toàn khớp** với biểu thức chính quy hay không. Nếu khớp toàn bộ, hàm trả về một **match object**; nếu không, trả về `None`.\n",
    "\n",
    "##### ***Chi tiết***\n",
    "\n",
    "- `re.fullmatch(pattern, string, flags=0)` sẽ kiểm tra xem **toàn bộ chuỗi (từ đầu đến hết)** có khớp chính xác với biểu thức chính quy hay không.  \n",
    "\n",
    "- Nếu toàn chuỗi **khớp hoàn toàn**, trả về `match object`.  \n",
    "\n",
    "- Nếu chỉ **một phần** chuỗi khớp, hoặc **không khớp**, trả về `None`.\n",
    "\n",
    "🔸 Lưu ý: Trả về `None` nếu biểu thức không bao phủ **toàn bộ chuỗi** — đây là điểm khác với `re.match()` và `re.search()`.\n",
    "\n",
    "##### ***Cú pháp***\n",
    "\n",
    "```python\n",
    "re.fullmatch(pattern, string, flags=0)\n"
   ]
  },
  {
   "cell_type": "code",
   "execution_count": 13,
   "id": "e62e9035",
   "metadata": {},
   "outputs": [
    {
     "name": "stdout",
     "output_type": "stream",
     "text": [
      "Chuỗi hợp lệ: 0123456789\n",
      "None\n"
     ]
    }
   ],
   "source": [
    "import re\n",
    "\n",
    "# Kiểm tra xem chuỗi có phải là đúng 10 chữ số không\n",
    "text = \"0123456789\"\n",
    "\n",
    "match = re.fullmatch(r\"\\d{10}\", text)\n",
    "\n",
    "if match:\n",
    "    print(\"Chuỗi hợp lệ:\", match.group())  # 0123456789\n",
    "else:\n",
    "    print(\"Chuỗi không khớp hoàn toàn.\")\n",
    "  \n",
    "#  Không khớp nếu chỉ khớp một phần  \n",
    "text = \"SĐT: 0123456789\"\n",
    "\n",
    "match = re.fullmatch(r\"\\d{10}\", text)\n",
    "print(match)  # None, vì chuỗi không hoàn toàn là 10 chữ số\n",
    "\n"
   ]
  },
  {
   "cell_type": "markdown",
   "id": "d339c5d4",
   "metadata": {},
   "source": [
    "#### **2.5. Phương thức `re.split()`**\n",
    "\n",
    "Phương thức `re.split()` được dùng để **tách chuỗi** dựa trên **mẫu biểu thức chính quy**. Tương tự như `str.split()`, nhưng mạnh mẽ hơn vì có thể tách theo mẫu phức tạp như ký tự đặc biệt, số, chuỗi con, v.v.\n",
    "\n",
    "##### ***Chi tiết***\n",
    "- Tách chuỗi `string` tại **các vị trí khớp với `pattern`**, và trả về một danh sách các chuỗi con.\n",
    "\n",
    "- Nếu `pattern` có **dấu ngoặc (capturing group)**, **các phần khớp trong ngoặc cũng sẽ xuất hiện trong danh sách kết quả**.\n",
    "\n",
    "- Nếu `maxsplit` > 0, giới hạn số lần tách chuỗi.\n",
    "\n",
    "- Nếu phần phân tách nằm ở đầu hoặc cuối chuỗi, kết quả sẽ chứa chuỗi rỗng `''` ở đầu/cuối.\n",
    "\n",
    "- Ví dụ, Mặc dù <code>re.split('x*', 'axbc')</code> `x*` có thể khớp cả với chuỗi rỗng, `re.split()` hiện tại không tách theo các khớp rỗng. Điều này có thể thay đổi trong các phiên bản Python tương lai.\n",
    "\n",
    "##### ***Cú pháp***\n",
    "\n",
    "```python\n",
    "re.split(pattern, string, maxsplit=0, flags=0)"
   ]
  },
  {
   "cell_type": "code",
   "execution_count": 15,
   "id": "83f3eadc",
   "metadata": {},
   "outputs": [
    {
     "name": "stdout",
     "output_type": "stream",
     "text": [
      "['Words', 'words', 'words', '']\n",
      "['Words', ', ', 'words', ', ', 'words', '.', '']\n"
     ]
    },
    {
     "data": {
      "text/plain": [
       "['foo\\n', '\\nbar\\n', '']"
      ]
     },
     "execution_count": 15,
     "metadata": {},
     "output_type": "execute_result"
    }
   ],
   "source": [
    "# Ví dụ cơ bản:\n",
    "import re\n",
    "\n",
    "text = \"Words, words, words.\"\n",
    "\n",
    "result = re.split(r'\\W+', text)             # Tách chuỗi tại ký tự không phải chữ và số\n",
    "print(result)                               # ['Words', 'words', 'words', '']\n",
    "\n",
    "# Với nhóm ngoặc (capturing group):\n",
    "result = re.split(r'(\\W+)', text)\n",
    "print(result)                               # ['Words', ', ', 'words', ', ', 'words', '.', '']\n",
    "\n",
    "# Dùng flag IGNORECASE\n",
    "re.split('[a-f]+', '0a3B9', flags=re.IGNORECASE)            # ['0', '3', '9']\n",
    "\n",
    "# Tách ở đầu/cuối chuỗi => phần rỗng\n",
    "re.split(r'(\\W+)', '...words, words...')                    # ['', '...', 'words', ', ', 'words', '...', '']\n",
    "\n",
    "# Không tách theo mẫu rỗng\n",
    "re.split('x*', 'axbc')                                      # ['a', 'bc']\n",
    "\n",
    "# Lỗi nếu pattern chỉ khớp chuỗi rỗng\n",
    "re.split(\"^$\", \"foo\\n\\nbar\\n\", flags=re.M)                  # ValueError: split() requires a non-empty pattern match.\n",
    "\n"
   ]
  },
  {
   "cell_type": "markdown",
   "id": "030f3f21",
   "metadata": {},
   "source": [
    "#### **2.6. Phương thức `re.findall()`**\n",
    "\n",
    "Phương thức `re.findall()` trong Python dùng để **tìm tất cả các khớp không trùng lặp** của biểu thức chính quy trong chuỗi và trả về **danh sách các chuỗi hoặc tuple**.\n",
    "\n",
    "##### ***Chi tiết***\n",
    "- Phương thức này sẽ quét qua chuỗi từ trái sang phải và trả về danh sách tất cả các khớp của mẫu biểu thức chính quy trong chuỗi.\n",
    "\n",
    "- Kết quả có thể là một **danh sách các chuỗi** (nếu không có nhóm bắt buộc nào trong biểu thức) hoặc một **danh sách các tuple** nếu biểu thức chứa nhiều nhóm bắt buộc.\n",
    "\n",
    "- **Các nhóm không bắt buộc** không ảnh hưởng đến kết quả trả về. Chúng chỉ có tác dụng trong việc nhóm các phần tử nhưng không xuất hiện trong kết quả.\n",
    "\n",
    "- Từ Python 3.7, các **khớp rỗng** cũng sẽ được bao gồm trong kết quả.\n",
    "\n",
    "##### ***Cú pháp***\n",
    "\n",
    "```python\n",
    "re.findall(pattern, string, flags=0)\n"
   ]
  },
  {
   "cell_type": "code",
   "execution_count": 23,
   "id": "79544815",
   "metadata": {},
   "outputs": [
    {
     "name": "stdout",
     "output_type": "stream",
     "text": [
      "['foot', 'fell', 'fastest']\n",
      "[('width', '20'), ('height', '10'), ('width', '20'), ('depth', '5')]\n",
      "['20', '10']\n"
     ]
    }
   ],
   "source": [
    "# Ví dụ cơ bản:\n",
    "import re\n",
    "\n",
    "text = \"which foot or hand fell fastest\"\n",
    "\n",
    "result = re.findall(r'\\bf[a-z]*', text)     # Tìm tất cả các từ bắt đầu bằng 'f'\n",
    "print(result)                               # ['foot', 'fell', 'fastest']\n",
    "\n",
    "# Ví dụ với nhóm bắt buộc (capturing groups)\n",
    "text = \"set width=20 and height=10 and width=20, depth=5\"\n",
    "\n",
    "result = re.findall(r'(\\w+)=(\\d+)', text)   # Tìm cặp key=value\n",
    "print(result)                               # [('width', '20'), ('height', '10')]\n",
    "\n",
    "# Lưu ý về các nhóm không bắt buộc\n",
    "# Kết quả không thay đổi nếu sử dụng các nhóm không bắt buộc (non-capturing groups). \n",
    "# Chúng chỉ có tác dụng trong việc nhóm các phần tử nhưng không xuất hiện trong kết quả.\n",
    "text = \"width=20, height=10, depth= , \"\n",
    "\n",
    "result = re.findall(r'(?:\\w+)=(\\d+)', text)         # Sử dụng nhóm không bắt buộc\n",
    "print(result)                                       # ['20', '10']\n",
    "\n"
   ]
  },
  {
   "cell_type": "markdown",
   "id": "ef9b5786",
   "metadata": {},
   "source": [
    "#### **2.7. Phương thức `re.finditer()`**\n",
    "\n",
    "Phương thức `re.finditer()` trong Python trả về **một iterator** cho các đối tượng **Match** của tất cả các khớp không trùng lặp của biểu thức chính quy trong chuỗi.\n",
    "\n",
    "##### ***Chi tiết***\n",
    "- Phương thức này quét chuỗi từ trái sang phải và trả về **iterator** (đối tượng có thể lặp qua) chứa các đối tượng **Match** cho mỗi khớp. \n",
    "\n",
    "- Mỗi đối tượng **Match** cung cấp thông tin chi tiết về phần khớp trong chuỗi, bao gồm vị trí bắt đầu, kết thúc, và chuỗi con khớp.\n",
    "\n",
    "- **Khớp rỗng** cũng được bao gồm trong kết quả.\n",
    "\n",
    "- Mỗi đối tượng Match có thể truy cập thông qua phương thức `group()` để lấy phần khớp.\n",
    "\n",
    "##### ***Cú pháp***\n",
    "\n",
    "```python\n",
    "re.finditer(pattern, string, flags=0)\n"
   ]
  },
  {
   "cell_type": "code",
   "execution_count": 24,
   "id": "6ae3c275",
   "metadata": {},
   "outputs": [
    {
     "name": "stdout",
     "output_type": "stream",
     "text": [
      "Khớp: foot, Vị trí: 6 - 10\n",
      "Khớp: fell, Vị trí: 19 - 23\n",
      "Khớp: fastest, Vị trí: 24 - 31\n"
     ]
    }
   ],
   "source": [
    "import re\n",
    "\n",
    "text = \"which foot or hand fell fastest\"\n",
    "\n",
    "# Tìm tất cả các từ bắt đầu bằng 'f'\n",
    "matches = re.finditer(r'\\bf[a-z]*', text)\n",
    "\n",
    "# Lặp qua iterator và in ra thông tin về các khớp\n",
    "for match in matches:\n",
    "    print(f\"Khớp: {match.group()}, Vị trí: {match.start()} - {match.end()}\")\n"
   ]
  },
  {
   "cell_type": "markdown",
   "id": "f48068c4",
   "metadata": {},
   "source": [
    "#### **2.8. Phương thức `re.sub()`**\n",
    "\n",
    "Phương thức `re.sub()` trong Python được sử dụng để **thay thế các phần tử khớp với biểu thức chính quy** trong chuỗi bằng một chuỗi thay thế (`repl`). \n",
    "\n",
    "---\n",
    "\n",
    "##### ***Chi tiết***\n",
    "- Phương thức này thay thế các **khớp không trùng lặp đầu tiên** của mẫu trong chuỗi bằng một chuỗi thay thế.\n",
    "\n",
    "- Nếu mẫu không được tìm thấy trong chuỗi, chuỗi ban đầu sẽ được trả về mà không thay đổi.\n",
    "\n",
    "- Tham số `repl` có thể là một **chuỗi thay thế** hoặc một **hàm**. Nếu là chuỗi, các ký tự escape như `\\n`, `\\r` sẽ được xử lý. \n",
    "\n",
    "  - Ví dụ: `\\n` sẽ được thay bằng ký tự xuống dòng.\n",
    "  \n",
    "  - Các **backreference** như `\\6` sẽ được thay bằng chuỗi con khớp với nhóm 6 trong biểu thức chính quy.\n",
    "\n",
    "- Phương thức re.sub() sẽ không thay thế các khớp rỗng khi chúng liền kề với nhau, ví dụ: `re.sub('x*', '-', 'abxd')  # '-a-b--d-'`\n",
    "  \n",
    "---\n",
    "\n",
    "##### ***Cú pháp***\n",
    "\n",
    "```python\n",
    "re.sub(pattern, repl, string, count=0, flags=0)\n",
    "```\n",
    "- **pattern**: Biểu thức chính quy cần tìm kiếm và thay thế. \n",
    "\n",
    "- **repl**: Chuỗi thay thế hoặc một hàm để xử lý các khớp.\n",
    "\n",
    "- **string**: Chuỗi đầu vào để thay thế các khớp.\n",
    "\n",
    "- **count**: Số lần thay thế tối đa (mặc định là 0, tức thay thế tất cả các khớp).\n",
    "\n",
    "- **flags**: Các giá trị tùy chọn như `re.IGNORECASE`, `re.MULTILINE`, v.v\n",
    "\n"
   ]
  },
  {
   "cell_type": "code",
   "execution_count": 35,
   "id": "6f35e152",
   "metadata": {},
   "outputs": [
    {
     "name": "stdout",
     "output_type": "stream",
     "text": [
      "def myfunction(): in my hello myfunction()\n",
      "hi chuyen static PyObject*\n",
      "py_myfunc1(void)\n",
      "{ static PyObject*\n",
      "py_myfunc2(void)\n",
      "{\n",
      "pro--gram files\n",
      "Baked Beans & Spam\n"
     ]
    },
    {
     "data": {
      "text/plain": [
       "'-a-b--d-'"
      ]
     },
     "execution_count": 35,
     "metadata": {},
     "output_type": "execute_result"
    }
   ],
   "source": [
    "#  Ví dụ cơ bản với chuỗi thay thế\n",
    "\n",
    "import re\n",
    "\n",
    "result = re.sub(r'myfunc', 'myfunction', 'def myfunc(): in my hello myfunc()')           # Thay thế 'myfunc' thành 'myfunction'\n",
    "print(result)                                                       # 'def myfunction():'\n",
    "\n",
    "# Ví dụ với backreference\n",
    "# Thay thế các nhóm bắt buộc trong biểu thức chính quy\n",
    "# \\1 là tham chiếu đến nhóm con đầu tiên trong biểu thức chính quy (tên hàm). Ví dụ, nếu hàm là myfunc, \\1 sẽ trở thành myfunc, do đó kết quả là py_myfunc.\n",
    "result = re.sub(r'def\\s+([a-zA-Z_][a-zA-Z_0-9]*)\\s*\\(\\s*\\):', \n",
    "                r'static PyObject*\\npy_\\1(void)\\n{', \n",
    "                'hi chuyen def myfunc1(): def myfunc2():')         \n",
    "         \n",
    "print(result)                                   # 'static PyObject*\\npy_myfunc(void)\\n{'\n",
    "\n",
    "def dashrepl(matchobj):\n",
    "    if matchobj.group(0) == '-': \n",
    "        return ' '  # Thay thế dấu '-' bằng khoảng trắng\n",
    "    else: \n",
    "        return '-'  # Thay thế khoảng trắng bằng dấu '-'\n",
    "\n",
    "#  Ví dụ với hàm thay thế (repl là hàm)\n",
    "result = re.sub('-{1,2}', dashrepl, 'pro----gram-files')    # Thay thế dấu '-' liên tiếp bằng dấu '- ' hoặc khoảng trắng\n",
    "print(result)                                               # 'pro--gram files'\n",
    "\n",
    "# Ví dụ sử dụng count\n",
    "result = re.sub(r'\\sAND\\s', ' & ', 'Baked Beans And Spam', flags=re.IGNORECASE)\n",
    "print(result)  # 'Baked Beans & Spam'\n",
    "\n",
    "# Lưu ý về các khớp rỗng\n",
    "re.sub('x*', '-', 'abxd')  # '-a-b--d-'\n"
   ]
  },
  {
   "cell_type": "markdown",
   "id": "00704575",
   "metadata": {},
   "source": [
    "#### **2.9. Phương thức `re.subn()`**\n",
    "\n",
    "Phương thức `re.subn()` trong Python thực hiện **thay thế các khớp của biểu thức chính quy** trong chuỗi giống như `re.sub()`, nhưng thay vì chỉ trả về chuỗi kết quả, phương thức này trả về **một tuple** gồm chuỗi đã thay thế và **số lượng lần thay thế** đã thực hiện.\n",
    "\n",
    "---\n",
    "\n",
    "##### ***Chi tiết***\n",
    "- Phương thức này thực hiện thay thế tất cả các khớp không trùng lặp của mẫu trong chuỗi.\n",
    "- Kết quả trả về là một **tuple** chứa hai phần:\n",
    "  - **Chuỗi kết quả** sau khi thay thế.\n",
    "  - **Số lần thay thế** đã thực hiện.\n",
    "- Tham số `count` có thể được sử dụng để giới hạn số lần thay thế (mặc định là 0, tức thay thế tất cả các khớp).\n",
    "\n",
    "---\n",
    "\n",
    "##### ***Cú pháp***\n",
    "\n",
    "```python\n",
    "re.subn(pattern, repl, string, count=0, flags=0)\n"
   ]
  },
  {
   "cell_type": "code",
   "execution_count": 60,
   "id": "89386639",
   "metadata": {},
   "outputs": [
    {
     "name": "stdout",
     "output_type": "stream",
     "text": [
      "('def myfunction(): myfunction1(): myfunction2():', 3)\n"
     ]
    }
   ],
   "source": [
    "import re\n",
    "\n",
    "# Thay thế 'myfunc' thành 'myfunction' và trả về tuple (chuỗi kết quả, số lần thay thế)\n",
    "result = re.subn(r'myfunc', 'myfunction', 'def myfunc(): myfunc1(): myfunc2():')\n",
    "print(result)  # ('def myfunction():', 1)"
   ]
  },
  {
   "cell_type": "markdown",
   "id": "eb81969c",
   "metadata": {},
   "source": [
    "#### **2.10. Phương thức `re.escape()`**\n",
    "\n",
    "Phương thức `re.escape()` trong Python giúp **thoát các ký tự đặc biệt** trong biểu thức chính quy. Điều này rất hữu ích khi bạn muốn khớp một chuỗi văn bản tự do có thể chứa các ký tự đặc biệt trong biểu thức chính quy, như dấu chấm (.), dấu sao (*), dấu cộng (+), v.v.\n",
    "\n",
    "##### ***Chi tiết***\n",
    "- Phương thức này **thoát các ký tự đặc biệt** trong một chuỗi, giúp chuỗi trở thành một mẫu văn bản có thể tìm kiếm chính xác mà không cần lo lắng về các ký tự đặc biệt của biểu thức chính quy. \n",
    "\n",
    "- Đây là một công cụ hữu ích khi bạn muốn khớp một chuỗi chính xác mà không phải lo ngại về các ký tự đặc biệt trong đó.\n",
    "\n",
    "##### ***Cú pháp***\n",
    "\n",
    "```python\n",
    "re.escape(pattern)\n"
   ]
  },
  {
   "cell_type": "code",
   "execution_count": 41,
   "id": "7dfb7484",
   "metadata": {},
   "outputs": [
    {
     "name": "stdout",
     "output_type": "stream",
     "text": [
      "https://www\\.python\\.org\n",
      "/|\\-|\\+|\\*\\*|\\*\n",
      "[abcdefghijklmnopqrstuvwxyz0123456789!\\#\\$%\\&'\\*\\+\\-\\.\\^_`\\|\\~:]+\n"
     ]
    }
   ],
   "source": [
    "# Ví dụ cơ bản:\n",
    "import re\n",
    "\n",
    "escaped_url = re.escape('https://www.python.org')       # Thoát các ký tự đặc biệt trong URL\n",
    "print(escaped_url)                                      # https://www\\.python\\.org\n",
    "\n",
    "# Ví dụ với các ký tự đặc biệt\n",
    "operators = ['+', '-', '*', '/', '**']\n",
    "escaped_operators = '|'.join(map(re.escape, sorted(operators, reverse=True)))\n",
    "print(escaped_operators)  # /\\-|\\+|\\*\\*|\\*\n",
    "\n",
    "import string\n",
    "\n",
    "legal_chars = string.ascii_lowercase + string.digits + \"!#$%&'*+-.^_`|~:\"\n",
    "escaped_chars = re.escape(legal_chars)\n",
    "print('[%s]+' % escaped_chars)  # [abcdefghijklmnopqrstuvwxyz0123456789!\\#\\$%\\&'\\*\\+\\-\\.\\^_`\\|\\~:]+"
   ]
  },
  {
   "cell_type": "markdown",
   "id": "6b7e35b4",
   "metadata": {},
   "source": [
    "#### **2.11. Phương thức `re.purge()`**\n",
    "\n",
    "Phương thức `re.purge()` trong Python được sử dụng để **xóa bộ nhớ cache của biểu thức chính quy**. Python sử dụng bộ nhớ cache để tối ưu hóa hiệu suất khi sử dụng các biểu thức chính quy. Tuy nhiên, nếu bạn muốn giải phóng bộ nhớ cache, phương thức này sẽ giúp làm điều đó.\n",
    "\n",
    "##### ***Chi tiết***\n",
    "- Phương thức này giúp xóa **bộ nhớ cache của các biểu thức chính quy** đã biên dịch trước đó, giúp tiết kiệm bộ nhớ khi không cần thiết.\n",
    "- Bộ nhớ cache này thường được Python sử dụng để tăng tốc độ các lần tìm kiếm biểu thức chính quy sau khi đã biên dịch một lần.\n",
    "\n",
    "##### ***Cú pháp***\n",
    "\n",
    "```python\n",
    "re.purge()\n"
   ]
  },
  {
   "cell_type": "code",
   "execution_count": 40,
   "id": "3330e4b2",
   "metadata": {},
   "outputs": [
    {
     "name": "stdout",
     "output_type": "stream",
     "text": [
      "{(<class 'str'>, '([\\x00-\\x7f]+)', 0): re.compile('([\\x00-\\x7f]+)'), (<class 'str'>, '(?P<major>\\\\d+).(?P<minor>\\\\d+).(?P<patch>\\\\d+)(?P<rest>.*)', 0): re.compile('(?P<major>\\\\d+).(?P<minor>\\\\d+).(?P<patch>\\\\d+)(?P<rest>.*)'), (<class 'str'>, '(-?(?:0|[1-9]\\\\d*))(\\\\.\\\\d+)?([eE][-+]?\\\\d+)?', 88): re.compile('(-?(?:0|[1-9]\\\\d*))(\\\\.\\\\d+)?([eE][-+]?\\\\d+)?', re.MULTILINE|re.DOTALL|re.VERBOSE), (<class 'str'>, '(.*?)([\"\\\\\\\\\\\\x00-\\\\x1f])', 88): re.compile('(.*?)([\"\\\\\\\\\\\\x00-\\\\x1f])', re.MULTILINE|re.DOTALL|re.VERBOSE), (<class 'str'>, '[ \\\\t\\\\n\\\\r]*', 88): re.compile('[ \\\\t\\\\n\\\\r]*', re.MULTILINE|re.DOTALL|re.VERBOSE), (<class 'str'>, '[\\\\x00-\\\\x1f\\\\\\\\\"\\\\b\\\\f\\\\n\\\\r\\\\t]', 0): re.compile('[\\\\x00-\\\\x1f\\\\\\\\\"\\\\b\\\\f\\\\n\\\\r\\\\t]'), (<class 'str'>, '([\\\\\\\\\"]|[^\\\\ -~])', 0): re.compile('([\\\\\\\\\"]|[^\\\\ -~])'), (<class 'bytes'>, b'[\\x80-\\xff]', 0): re.compile(b'[\\x80-\\xff]'), (<class 'str'>, '%(?:\\\\((?P<key>.*?)\\\\))?(?P<modifiers>[-#0-9 +*.hlL]*?)[eEfFgGdiouxXcrs%]', 0): re.compile('%(?:\\\\((?P<key>.*?)\\\\))?(?P<modifiers>[-#0-9 +*.hlL]*?)[eEfFgGdiouxXcrs%]'), (<class 'str'>, '([0-9]+|[._+-])', 0): re.compile('([0-9]+|[._+-])'), (<class 'bytes'>, b'(__libc_init)|(GLIBC_([0-9.]+))|(libc(_\\\\w+)?\\\\.so(?:\\\\.(\\\\d[0-9.]*))?)', 256): re.compile(b'(__libc_init)|(GLIBC_([0-9.]+))|(libc(_\\\\w+)?\\\\.so(?:\\\\.(\\\\d[0-9.]*))?)', re.ASCII), (<class 'str'>, '(?:([\\\\w ]+) ([\\\\w.]+) .*\\\\[.* ([\\\\d.]+)\\\\])', 0): re.compile('(?:([\\\\w ]+) ([\\\\w.]+) .*\\\\[.* ([\\\\d.]+)\\\\])'), (<class 'str'>, '([\\\\w.+]+)\\\\s*\\\\(#?([^,]+)(?:,\\\\s*([\\\\w ]*)(?:,\\\\s*([\\\\w :]*))?)?\\\\)\\\\s*\\\\[([^\\\\]]+)\\\\]?', 256): re.compile('([\\\\w.+]+)\\\\s*\\\\(#?([^,]+)(?:,\\\\s*([\\\\w ]*)(?:,\\\\s*([\\\\w :]*))?)?\\\\)\\\\s*\\\\[([^\\\\]]+)\\\\]?', re.ASCII), (<class 'str'>, 'IronPython\\\\s*([\\\\d\\\\.]+)(?: \\\\(([\\\\d\\\\.]+)\\\\))? on (.NET [\\\\d\\\\.]+)', 256): re.compile('IronPython\\\\s*([\\\\d\\\\.]+)(?: \\\\(([\\\\d\\\\.]+)\\\\))? on (.NET [\\\\d\\\\.]+)', re.ASCII), (<class 'str'>, '([\\\\d.]+)\\\\s*\\\\(IronPython\\\\s*[\\\\d.]+\\\\s*\\\\(([\\\\d.]+)\\\\) on ([\\\\w.]+ [\\\\d.]+(?: \\\\(\\\\d+-bit\\\\))?)\\\\)', 0): re.compile('([\\\\d.]+)\\\\s*\\\\(IronPython\\\\s*[\\\\d.]+\\\\s*\\\\(([\\\\d.]+)\\\\) on ([\\\\w.]+ [\\\\d.]+(?: \\\\(\\\\d+-bit\\\\))?)\\\\)'), (<class 'str'>, '([\\\\w.+]+)\\\\s*\\\\(#?([^,]+),\\\\s*([\\\\w ]+),\\\\s*([\\\\w :]+)\\\\)\\\\s*\\\\[PyPy [^\\\\]]+\\\\]?', 0): re.compile('([\\\\w.+]+)\\\\s*\\\\(#?([^,]+),\\\\s*([\\\\w ]+),\\\\s*([\\\\w :]+)\\\\)\\\\s*\\\\[PyPy [^\\\\]]+\\\\]?'), (<class 'str'>, '^(?P<name>[a-zA-Z0-9_]+)=(?P<quote>[\"\\']?)(?P<value>.*)(?P=quote)$', 0): re.compile('^(?P<name>[a-zA-Z0-9_]+)=(?P<quote>[\"\\']?)(?P<value>.*)(?P=quote)$'), (<class 'str'>, '\\\\\\\\([\\\\\\\\\\\\$\\\\\"\\\\\\'`])', 0): re.compile('\\\\\\\\([\\\\\\\\\\\\$\\\\\"\\\\\\'`])'), (<class 'str'>, '[A-Z][A-Z0-9_]+$', 0): re.compile('[A-Z][A-Z0-9_]+$'), (<class 'str'>, '(\\\\d+)\\\\.(\\\\d+)\\\\.(\\\\d+)(.*)', 0): re.compile('(\\\\d+)\\\\.(\\\\d+)\\\\.(\\\\d+)(.*)'), (<class 'str'>, '^[ \\\\t\\\\f]*#.*?coding[:=][ \\\\t]*([-\\\\w.]+)', 256): re.compile('^[ \\\\t\\\\f]*#.*?coding[:=][ \\\\t]*([-\\\\w.]+)', re.ASCII), (<class 'bytes'>, b'^[ \\\\t\\\\f]*(?:[#\\\\r\\\\n]|$)', 256): re.compile(b'^[ \\\\t\\\\f]*(?:[#\\\\r\\\\n]|$)', re.ASCII), (<class 'str'>, '\\n        ( # any whitespace\\n          [\\\\\\t\\\\\\n\\\\\\x0b\\\\\\x0c\\\\\\r\\\\ ]+\\n        | # em-dash between words\\n          (?<=[\\\\w!\"\\\\\\'&.,?]) -{2,} (?=\\\\w)\\n        | # word, possibly hyphenated\\n          [^\\\\\\t\\\\\\n\\\\\\x0b\\\\\\x0c\\\\\\r\\\\ ]+? (?:\\n            # hyphenated word\\n              -(?: (?<=[^\\\\d\\\\W]{2}-) | (?<=[^\\\\d\\\\W]-[^\\\\d\\\\W]-))\\n              (?= [^\\\\d\\\\W] -? [^\\\\d\\\\W])\\n            | # end of word\\n              (?=[\\\\\\t\\\\\\n\\\\\\x0b\\\\\\x0c\\\\\\r\\\\ ]|\\\\Z)\\n            | # em-dash\\n              (?<=[\\\\w!\"\\\\\\'&.,?]) (?=-{2,}\\\\w)\\n            )\\n        )', 64): re.compile('\\n        ( # any whitespace\\n          [\\\\\\t\\\\\\n\\\\\\x0b\\\\\\x0c\\\\\\r\\\\ ]+\\n        | # em-dash between words\\n          (?<=[\\\\w!\"\\\\\\'&.,?]) -{2,} (?=\\\\w)\\n        | # word, possibly hyphenated\\n       , re.VERBOSE), (<class 'str'>, '([\\\\\\t\\\\\\n\\\\\\x0b\\\\\\x0c\\\\\\r\\\\ ]+)', 0): re.compile('([\\\\\\t\\\\\\n\\\\\\x0b\\\\\\x0c\\\\\\r\\\\ ]+)'), (<class 'str'>, '[a-z][\\\\.\\\\!\\\\?][\\\\\"\\\\\\']?\\\\Z', 0): re.compile('[a-z][\\\\.\\\\!\\\\?][\\\\\"\\\\\\']?\\\\Z'), (<class 'str'>, '^[ \\t]+$', 8): re.compile('^[ \\t]+$', re.MULTILINE), (<class 'str'>, '(^[ \\t]*)(?:[^ \\t\\n])', 8): re.compile('(^[ \\t]*)(?:[^ \\t\\n])', re.MULTILINE), (<class 'str'>, '\\n            \\\\$(?:\\n              (?P<escaped>\\\\$)  |   # Escape sequence of two delimiters\\n              (?P<named>(?a:[_a-z][_a-z0-9]*))       |   # delimiter and a Python identifier\\n              {(?P<braced>(?a:[_a-z][_a-z0-9]*))} |   # delimiter and a braced identifier\\n              (?P<invalid>)             # Other ill-formed delimiter exprs\\n            )\\n            ', 66): re.compile('\\n            \\\\$(?:\\n              (?P<escaped>\\\\$)  |   # Escape sequence of two delimiters\\n              (?P<named>(?a:[_a-z][_a-z0-9]*))       |   # delimiter and a Python identifier\\n          , re.IGNORECASE|re.VERBOSE), (<class 'str'>, '%\\\\(\\\\w+\\\\)[#0+ -]*(\\\\*|\\\\d+)?(\\\\.(\\\\*|\\\\d+))?[diouxefgcrsa%]', 2): re.compile('%\\\\(\\\\w+\\\\)[#0+ -]*(\\\\*|\\\\d+)?(\\\\.(\\\\*|\\\\d+))?[diouxefgcrsa%]', re.IGNORECASE), (<class 'str'>, '^(.?[<>=^])?[+ -]?#?0?(\\\\d+|{\\\\w+})?[,_]?(\\\\.(\\\\d+|{\\\\w+}))?[bcdefgnosx%]?$', 2): re.compile('^(.?[<>=^])?[+ -]?#?0?(\\\\d+|{\\\\w+})?[,_]?(\\\\.(\\\\d+|{\\\\w+}))?[bcdefgnosx%]?$', re.IGNORECASE), (<class 'str'>, '^(\\\\d+|\\\\w+)(\\\\.\\\\w+|\\\\[[^]]+\\\\])*$', 0): re.compile('^(\\\\d+|\\\\w+)(\\\\.\\\\w+|\\\\[[^]]+\\\\])*$'), (<class 'str'>, '^(?:\\\\s*(\\\\w+)\\\\s*\\\\.)?\\\\s*(\\\\w+)', 0): re.compile('^(?:\\\\s*(\\\\w+)\\\\s*\\\\.)?\\\\s*(\\\\w+)'), (<class 'str'>, '&(#[0-9]+;?|#[xX][0-9a-fA-F]+;?|[^\\\\t\\\\n\\\\f <&#;]{1,32};?)', 0): re.compile('&(#[0-9]+;?|#[xX][0-9a-fA-F]+;?|[^\\\\t\\\\n\\\\f <&#;]{1,32};?)'), (<class 'str'>, '\\\\\\\\(.)', 16): re.compile('\\\\\\\\(.)', re.DOTALL), (<class 'str'>, '\\\\b((?:([\\\\w-]+):(/{1,3})|www[.])(?:(?:(?:[^\\\\s&()]|&amp;|&quot;)*(?:[^!\"#$%&\\'()*+,.:;<=>?@\\\\[\\\\]^`{|}~\\\\s]))|(?:\\\\((?:[^\\\\s&()]|&amp;|&quot;)*\\\\)))+)', 0): re.compile('\\\\b((?:([\\\\w-]+):(/{1,3})|www[.])(?:(?:(?:[^\\\\s&()]|&amp;|&quot;)*(?:[^!\"#$%&\\'()*+,.:;<=>?@\\\\[\\\\]^`{|}~\\\\s]))|(?:\\\\((?:[^\\\\s&()]|&amp;|&quot;)*\\\\)))+)'), (<class 'str'>, '\\x01?\\x1b\\\\[((?:\\\\d|;)*)([a-zA-Z])\\x02?', 0): re.compile('\\x01?\\x1b\\\\[((?:\\\\d|;)*)([a-zA-Z])\\x02?'), (<class 'str'>, '\\x01?\\x1b\\\\]([^\\x07]*)(\\x07)\\x02?', 0): re.compile('\\x01?\\x1b\\\\]([^\\x07]*)(\\x07)\\x02?'), (<class 'str'>, '^[a-z_][a-z0-9_]*$', 2): re.compile('^[a-z_][a-z0-9_]*$', re.IGNORECASE), (<class 'str'>, '^(?P<prefix>[a-z]+)://(?P<suffix>.*)$', 0): re.compile('^(?P<prefix>[a-z]+)://(?P<suffix>.*)$'), (<class 'str'>, '^\\\\s*(\\\\w+)\\\\s*', 0): re.compile('^\\\\s*(\\\\w+)\\\\s*'), (<class 'str'>, '^\\\\.\\\\s*(\\\\w+)\\\\s*', 0): re.compile('^\\\\.\\\\s*(\\\\w+)\\\\s*'), (<class 'str'>, '^\\\\[\\\\s*(\\\\w+)\\\\s*\\\\]\\\\s*', 0): re.compile('^\\\\[\\\\s*(\\\\w+)\\\\s*\\\\]\\\\s*'), (<class 'str'>, '^\\\\d+$', 0): re.compile('^\\\\d+$'), (<class 'str'>, '\\n        (?P<WHITESPACES>[ \\\\t]+)                    | # spaces and horizontal tabs\\n        (?P<NUMBER>[0-9]+\\\\b)                       | # decimal integer\\n        (?P<NAME>n\\\\b)                              | # only n is allowed\\n        (?P<PARENTHESIS>[()])                      |\\n        (?P<OPERATOR>[-*/%+?:]|[><!]=?|==|&&|\\\\|\\\\|) | # !, *, /, %, +, -, <, >,\\n                                                     # <=, >=, ==, !=, &&, ||,\\n                                                     # ? :\\n                                                     # unary and bitwise ops\\n                                                     # not allowed\\n        (?P<INVALID>\\\\w+|.)                           # invalid token\\n    ', 80): re.compile('\\n        (?P<WHITESPACES>[ \\\\t]+)                    | # spaces and horizontal tabs\\n        (?P<NUMBER>[0-9]+\\\\b)                       | # decimal integer\\n        (?P<NAME>n\\\\b)                  , re.DOTALL|re.VERBOSE), (<class 'str'>, '^\\\\-?\\\\-[A-Za-z][\\\\w]*(\\\\.[\\\\w]+)*$', 0): re.compile('^\\\\-?\\\\-[A-Za-z][\\\\w]*(\\\\.[\\\\w]+)*$'), (<class 'str'>, '\\\\([^\\\\(\\\\)]+\\\\)', 32): re.compile('\\\\([^\\\\(\\\\)]+\\\\)'), (<class 'str'>, '\\\\([^\\\\(]*$', 32): re.compile('\\\\([^\\\\(]*$'), (<class 'str'>, '[a-z_][0-9a-z._]*', 34): re.compile('[a-z_][0-9a-z._]*', re.IGNORECASE), (<class 'str'>, '([.,])', 0): re.compile('([.,])'), (<class 'bytes'>, b'[\\\\.,]([0-9]+)', 0): re.compile(b'[\\\\.,]([0-9]+)'), (<class 'str'>, '^(\\\\d{4}-\\\\d{2}-\\\\d{2}T\\\\d{2}:\\\\d{2}:\\\\d{2})(\\\\.\\\\d{1,6})?(Z|([\\\\+\\\\-]\\\\d{2}:?\\\\d{2}))?$', 0): re.compile('^(\\\\d{4}-\\\\d{2}-\\\\d{2}T\\\\d{2}:\\\\d{2}:\\\\d{2})(\\\\.\\\\d{1,6})?(Z|([\\\\+\\\\-]\\\\d{2}:?\\\\d{2}))?$'), (<class 'str'>, '([\\\\\\\\.^$*+?\\\\(\\\\){}\\\\[\\\\]|])', 0): re.compile('([\\\\\\\\.^$*+?\\\\(\\\\){}\\\\[\\\\]|])'), (<class 'str'>, '\\\\s+', 0): re.compile('\\\\s+'), (<class 'str'>, '(?P<Y>\\\\d\\\\d\\\\d\\\\d)-(?P<m>1[0-2]|0[1-9]|[1-9])-(?P<d>3[0-1]|[1-2]\\\\d|0[1-9]|[1-9]| [1-9])', 2): re.compile('(?P<Y>\\\\d\\\\d\\\\d\\\\d)-(?P<m>1[0-2]|0[1-9]|[1-9])-(?P<d>3[0-1]|[1-2]\\\\d|0[1-9]|[1-9]| [1-9])', re.IGNORECASE), (<class 'str'>, '([*?[])', 0): re.compile('([*?[])'), (<class 'bytes'>, b'([*?[])', 0): re.compile(b'([*?[])'), (<class 'str'>, 'inet\\\\b.*?(\\\\d+\\\\.\\\\d+\\\\.\\\\d+\\\\.\\\\d+)', 2): re.compile('inet\\\\b.*?(\\\\d+\\\\.\\\\d+\\\\.\\\\d+\\\\.\\\\d+)', re.IGNORECASE), (<class 'str'>, 'ipv4.*?(\\\\d+\\\\.\\\\d+\\\\.\\\\d+\\\\.\\\\d+)$', 2): re.compile('ipv4.*?(\\\\d+\\\\.\\\\d+\\\\.\\\\d+\\\\.\\\\d+)$', re.IGNORECASE), (<class 'str'>, '[][\\\\\\\\()<>@,:;\".]', 0): re.compile('[][\\\\\\\\()<>@,:;\".]'), (<class 'str'>, '[\\\\\\\\\"]', 0): re.compile('[\\\\\\\\\"]'), (<class 'str'>, '^(?P<name>\\\\w+)\\\\*((?P<num>[0-9]+)\\\\*?)?$', 256): re.compile('^(?P<name>\\\\w+)\\\\*((?P<num>[0-9]+)\\\\*?)?$', re.ASCII), (<class 'str'>, '\\n  =\\\\?                   # literal =?\\n  (?P<charset>[^?]*?)   # non-greedy up to the next ? is the charset\\n  \\\\?                    # literal ?\\n  (?P<encoding>[qQbB])  # either a \"q\" or a \"b\", case insensitive\\n  \\\\?                    # literal ?\\n  (?P<encoded>.*?)      # non-greedy up to the next ?= is the encoded string\\n  \\\\?=                   # literal ?=\\n  ', 72): re.compile('\\n  =\\\\?                   # literal =?\\n  (?P<charset>[^?]*?)   # non-greedy up to the next ? is the charset\\n  \\\\?                    # literal ?\\n  (?P<encoding>[qQbB])  # either a \"q\" or a \"b\", c, re.MULTILINE|re.VERBOSE), (<class 'str'>, '[\\\\041-\\\\176]+:$', 0): re.compile('[\\\\041-\\\\176]+:$'), (<class 'str'>, '\\\\n[^ \\\\t]+:', 0): re.compile('\\\\n[^ \\\\t]+:'), (<class 'bytes'>, b'=([a-fA-F0-9]{2})', 0): re.compile(b'=([a-fA-F0-9]{2})'), (<class 'str'>, '[ \\\\(\\\\)<>@,;:\\\\\\\\\"/\\\\[\\\\]\\\\?=]', 0): re.compile('[ \\\\(\\\\)<>@,;:\\\\\\\\\"/\\\\[\\\\]\\\\?=]'), (<class 'str'>, '(?m)^        ', 0): re.compile('(?m)^        ', re.MULTILINE), (<class 'str'>, '(?P<module>[\\\\w.]+)\\\\s*(:\\\\s*(?P<attr>[\\\\w.]+)\\\\s*)?((?P<extras>\\\\[.*\\\\])\\\\s*)?$', 0): re.compile('(?P<module>[\\\\w.]+)\\\\s*(:\\\\s*(?P<attr>[\\\\w.]+)\\\\s*)?((?P<extras>\\\\[.*\\\\])\\\\s*)?$'), (<class 'str'>, '^[a-z0-9._\\\\-]+$', 2): re.compile('^[a-z0-9._\\\\-]+$', re.IGNORECASE), (<class 'str'>, ' at 0x[0-9a-f]{6,16}(>+)$', 2): re.compile(' at 0x[0-9a-f]{6,16}(>+)$', re.IGNORECASE), (<class 'str'>, '^', 8): re.compile('^', re.MULTILINE), (<class 'str'>, '\\n    \\\\A\\\\s*                                 # optional whitespace at the start,\\n    (?P<sign>[-+]?)                       # an optional sign, then\\n    (?=\\\\d|\\\\.\\\\d)                           # lookahead for digit or .digit\\n    (?P<num>\\\\d*|\\\\d+(_\\\\d+)*)               # numerator (possibly empty)\\n    (?:                                   # followed by\\n       (?:/(?P<denom>\\\\d+(_\\\\d+)*))?        # an optional denominator\\n    |                                     # or\\n       (?:\\\\.(?P<decimal>d*|\\\\d+(_\\\\d+)*))?  # an optional fractional part\\n       (?:E(?P<exp>[-+]?\\\\d+(_\\\\d+)*))?     # and optional exponent\\n    )\\n    \\\\s*\\\\Z                                 # and optional whitespace to finish\\n', 66): re.compile('\\n    \\\\A\\\\s*                                 # optional whitespace at the start,\\n    (?P<sign>[-+]?)                       # an optional sign, then\\n    (?=\\\\d|\\\\.\\\\d)                           # l, re.IGNORECASE|re.VERBOSE), (<class 'str'>, '[/\\\\\\\\ ]', 0): re.compile('[/\\\\\\\\ ]'), (<class 'str'>, '\\n    <!DOCTYPE\\\\s+(\\n     [a-zA-Z_][a-zA-Z0-9]*\\n     (?: \\\\s+      # optional in HTML5\\n     [a-zA-Z_][a-zA-Z0-9]*\\\\s+\\n     \"[^\"]*\")?\\n     )\\n     [^>]*>\\n', 88): re.compile('\\n    <!DOCTYPE\\\\s+(\\n     [a-zA-Z_][a-zA-Z0-9]*\\n     (?: \\\\s+      # optional in HTML5\\n     [a-zA-Z_][a-zA-Z0-9]*\\\\s+\\n     \"[^\"]*\")?\\n     )\\n     [^>]*>\\n', re.MULTILINE|re.DOTALL|re.VERBOSE), (<class 'str'>, '<(.+?)(\\\\s.*?)?>.*?</.+?>', 26): re.compile('<(.+?)(\\\\s.*?)?>.*?</.+?>', re.IGNORECASE|re.MULTILINE|re.DOTALL), (<class 'str'>, '\\\\s*<\\\\?xml[^>]*\\\\?>', 2): re.compile('\\\\s*<\\\\?xml[^>]*\\\\?>', re.IGNORECASE), (<class 'str'>, '(?<=\\\\n)\\\\s+', 0): re.compile('(?<=\\\\n)\\\\s+'), (<class 'str'>, '[^\\\\w@%+=:,./-]', 256): re.compile('[^\\\\w@%+=:,./-]', re.ASCII), (<class 'str'>, '^(\\\\s+)', 0): re.compile('^(\\\\s+)'), (<class 'str'>, \"(.*?)\\\\$(\\\\$?[\\\\w\\\\.]+)(?=([^']*'[^']*')*[^']*$)\", 0): re.compile(\"(.*?)\\\\$(\\\\$?[\\\\w\\\\.]+)(?=([^']*'[^']*')*[^']*$)\"), (<class 'str'>, '[a-zA-Z][a-zA-Z0-9_-]*$', 0): re.compile('[a-zA-Z][a-zA-Z0-9_-]*$'), (<class 'str'>, '(\\\\x1b[^m]+m)', 0): re.compile('(\\\\x1b[^m]+m)'), (<class 'str'>, '', 0): re.compile(''), (<class 'str'>, 'coding[:=]\\\\s*([-\\\\w.]+)', 32): re.compile('coding[:=]\\\\s*([-\\\\w.]+)'), (<class 'str'>, '^\\\\s*#.*coding[:=]\\\\s*([-\\\\w.]+)', 32): re.compile('^\\\\s*#.*coding[:=]\\\\s*([-\\\\w.]+)'), (<class 'str'>, '\\n    (?: vi | vim | ex ) (?: [<=>]? \\\\d* )? :\\n    .* (?: ft | filetype | syn | syntax ) = ( [^:\\\\s]+ )\\n', 64): re.compile('\\n    (?: vi | vim | ex ) (?: [<=>]? \\\\d* )? :\\n    .* (?: ft | filetype | syn | syntax ) = ( [^:\\\\s]+ )\\n', re.VERBOSE), (<class 'str'>, '[\\\\[\\\\^\\\\\\\\\\\\-\\\\]]', 0): re.compile('[\\\\[\\\\^\\\\\\\\\\\\-\\\\]]'), (<class 'str'>, '.*?\\n', 0): re.compile('.*?\\n'), (<class 'str'>, '[\\\\w\\\\.]+', 0): re.compile('[\\\\w\\\\.]+'), (<class 'str'>, '^[ \\\\t]+', 0): re.compile('^[ \\\\t]+'), (<class 'str'>, '^(>>>|\\\\.\\\\.\\\\.)( |$)', 0): re.compile('^(>>>|\\\\.\\\\.\\\\.)( |$)'), (<class 'str'>, '^>>>( |$)', 0): re.compile('^>>>( |$)'), (<class 'str'>, \"\\n        ^(                         # Match from the beginning of a line, either:\\n\\n                                   # 1. First-line prompt:\\n        ((\\\\[nav\\\\]|\\\\[ins\\\\])?\\\\ )?    # Vi editing mode prompt, if it's there\\n        In\\\\                        # The 'In' of the prompt, with a space\\n        \\\\[\\\\d+\\\\]:                   # Command index, as displayed in the prompt\\n        \\\\                          # With a mandatory trailing space\\n\\n        |                          # ... or ...\\n\\n                                   # 2. The three dots of the multiline prompt\\n        \\\\s*                        # All leading whitespace characters\\n        \\\\.{3,}:                    # The three (or more) dots\\n        \\\\ ?                        # With an optional trailing space\\n\\n        )\\n        \", 64): re.compile(\"\\n        ^(                         # Match from the beginning of a line, either:\\n\\n                                   # 1. First-line prompt:\\n        ((\\\\[nav\\\\]|\\\\[ins\\\\])?\\\\ )?    # Vi editing , re.VERBOSE), (<class 'str'>, '(%{0,2}\\n    (?!\\\\d)[\\\\w*]+            # Variable name\\n    (\\\\.(?!\\\\d)[\\\\w*]+|\\\\[-?[0-9]+\\\\])*       # .etc.etc or [0], we only support literal integers.\\n    )\\n    (\\\\?\\\\??)$                # ? or ??\\n    ', 64): re.compile('(%{0,2}\\n    (?!\\\\d)[\\\\w*]+            # Variable name\\n    (\\\\.(?!\\\\d)[\\\\w*]+|\\\\[-?[0-9]+\\\\])*       # .etc.etc or [0], we only support literal integers.\\n    )\\n    (\\\\?\\\\??)$                # ? or, re.VERBOSE), (<class 'str'>, '(?m)^    ', 0): re.compile('(?m)^    ', re.MULTILINE), (<class 'str'>, '#\\\\s*coding[:=]\\\\s*([-\\\\w.]+)', 0): re.compile('#\\\\s*coding[:=]\\\\s*([-\\\\w.]+)'), (<class 'str'>, \"\\n             ^(\\\\s*)               # any leading space\\n             ([,;/%]|!!?|\\\\?\\\\??)?  # escape character or characters\\n             \\\\s*(%{0,2}[\\\\w\\\\.\\\\*]*)     # function/method, possibly with leading %\\n                                  # to correctly treat things like '?%magic'\\n             (.*?$|$)             # rest of line\\n             \", 64): re.compile(\"\\n             ^(\\\\s*)               # any leading space\\n             ([,;/%]|!!?|\\\\?\\\\??)?  # escape character or characters\\n             \\\\s*(%{0,2}[\\\\w\\\\.\\\\*]*)     # function/method, possibly w, re.VERBOSE), (<class 'str'>, '[^\\\\W\\\\d]([\\\\w.]*) *$', 0): re.compile('[^\\\\W\\\\d]([\\\\w.]*) *$'), (<class 'str'>, '^[,&^\\\\|\\\\*/\\\\+-]|^is |^not |^in |^and |^or ', 0): re.compile('^[,&^\\\\|\\\\*/\\\\+-]|^is |^not |^in |^and |^or '), (<class 'str'>, '^(\\\\s*)()(\\\\S+)(.*$)', 0): re.compile('^(\\\\s*)()(\\\\S+)(.*$)'), (<class 'str'>, '\\\\s*def\\\\s*([_\\\\w][_\\\\w\\\\d]*)\\\\s*\\\\(', 0): re.compile('\\\\s*def\\\\s*([_\\\\w][_\\\\w\\\\d]*)\\\\s*\\\\('), (<class 'str'>, '[\\\\W_]+', 0): re.compile('[\\\\W_]+'), (<class 'str'>, '(exit|quit)(\\\\s*\\\\(.*\\\\))?$', 0): re.compile('(exit|quit)(\\\\s*\\\\(.*\\\\))?$'), (<class 'str'>, '\\n((?P<startsess>~?\\\\d+)/)?\\n(?P<start>\\\\d+)?\\n((?P<sep>[\\\\-:])\\n ((?P<endsess>~?\\\\d+)/)?\\n (?P<end>\\\\d+))?\\n$', 64): re.compile('\\n((?P<startsess>~?\\\\d+)/)?\\n(?P<start>\\\\d+)?\\n((?P<sep>[\\\\-:])\\n ((?P<endsess>~?\\\\d+)/)?\\n (?P<end>\\\\d+))?\\n$', re.VERBOSE), (<class 'str'>, '^\\\\s+raise|^\\\\s+return|^\\\\s+pass', 0): re.compile('^\\\\s+raise|^\\\\s+return|^\\\\s+pass'), (<class 'str'>, '^([1-9]\\\\d*!)?(0|[1-9]\\\\d*)(\\\\.(0|[1-9]\\\\d*))*((a|b|rc)(0|[1-9]\\\\d*)?)?(\\\\.post(0|[1-9]\\\\d*))?(\\\\.dev(0|[1-9]\\\\d*)?)?$', 32): re.compile('^([1-9]\\\\d*!)?(0|[1-9]\\\\d*)(\\\\.(0|[1-9]\\\\d*))*((a|b|rc)(0|[1-9]\\\\d*)?)?(\\\\.post(0|[1-9]\\\\d*))?(\\\\.dev(0|[1-9]\\\\d*)?)?$'), (<class 'str'>, '([a-zA-Z0-9_]+|[^a-zA-Z0-9_\\\\s]+)', 0): re.compile('([a-zA-Z0-9_]+|[^a-zA-Z0-9_\\\\s]+)'), (<class 'str'>, '^([a-zA-Z0-9_]+|[^a-zA-Z0-9_\\\\s]+)', 0): re.compile('^([a-zA-Z0-9_]+|[^a-zA-Z0-9_\\\\s]+)'), (<class 'str'>, '^(([a-zA-Z0-9_]+|[^a-zA-Z0-9_\\\\s]+)\\\\s*)', 0): re.compile('^(([a-zA-Z0-9_]+|[^a-zA-Z0-9_\\\\s]+)\\\\s*)'), (<class 'str'>, '([^\\\\s]+)', 0): re.compile('([^\\\\s]+)'), (<class 'str'>, '^([^\\\\s]+)', 0): re.compile('^([^\\\\s]+)'), (<class 'str'>, '^([^\\\\s]+\\\\s*)', 0): re.compile('^([^\\\\s]+\\\\s*)'), (<class 'str'>, '^[a-z0-9.\\\\s_-]*$', 0): re.compile('^[a-z0-9.\\\\s_-]*$'), (<class 'str'>, '(\\\\s+|\".*?\"|\\'.*?\\')', 0): re.compile('(\\\\s+|\".*?\"|\\'.*?\\')'), (<class 'str'>, '^\\x1b\\\\[\\\\d+;\\\\d+R\\\\Z', 0): re.compile('^\\x1b\\\\[\\\\d+;\\\\d+R\\\\Z'), (<class 'str'>, '^\\x1b\\\\[(<?[\\\\d;]+[mM]|M...)\\\\Z', 0): re.compile('^\\x1b\\\\[(<?[\\\\d;]+[mM]|M...)\\\\Z'), (<class 'str'>, '^\\x1b\\\\[[\\\\d;]*\\\\Z', 0): re.compile('^\\x1b\\\\[[\\\\d;]*\\\\Z'), (<class 'str'>, '^\\x1b\\\\[(<?[\\\\d;]*|M.{0,2})\\\\Z', 0): re.compile('^\\x1b\\\\[(<?[\\\\d;]*|M.{0,2})\\\\Z'), (<class 'str'>, '(?:\\\\{\\\\{|\\\\}\\\\}|\\\\\\\\N\\\\{[A-Za-z0-9\\\\-]+(?: [A-Za-z0-9\\\\-]+)*\\\\}|\\\\\\\\(?:\\\\r\\\\n?|\\\\n)|\\\\\\\\[^\\\\r\\\\nN]|[^{}\\\\r\\\\n\\\\\\\\])+', 32): re.compile('(?:\\\\{\\\\{|\\\\}\\\\}|\\\\\\\\N\\\\{[A-Za-z0-9\\\\-]+(?: [A-Za-z0-9\\\\-]+)*\\\\}|\\\\\\\\(?:\\\\r\\\\n?|\\\\n)|\\\\\\\\[^\\\\r\\\\nN]|[^{}\\\\r\\\\n\\\\\\\\])+'), (<class 'str'>, '(?:\\\\{\\\\{|\\\\}\\\\}|\\\\\\\\N\\\\{[A-Za-z0-9\\\\-]+(?: [A-Za-z0-9\\\\-]+)*\\\\}|\\\\\\\\[^N]|[^{}\\\\\\\\])+', 32): re.compile('(?:\\\\{\\\\{|\\\\}\\\\}|\\\\\\\\N\\\\{[A-Za-z0-9\\\\-]+(?: [A-Za-z0-9\\\\-]+)*\\\\}|\\\\\\\\[^N]|[^{}\\\\\\\\])+'), (<class 'str'>, '(?:\\\\\\\\(?:\\\\r\\\\n?|\\\\n)|[^{}\\\\r\\\\n])+', 32): re.compile('(?:\\\\\\\\(?:\\\\r\\\\n?|\\\\n)|[^{}\\\\r\\\\n])+'), (<class 'str'>, '[^{}]+', 32): re.compile('[^{}]+'), (<class 'str'>, '\\\\s*(?:#\\\\s*)?$', 0): re.compile('\\\\s*(?:#\\\\s*)?$'), (<class 'str'>, '([ \\\\t]*)(#[^\\\\n\\\\r\\\\f]*|\\\\\\\\\\\\r?\\\\n|\\\\\\\\\\\\r|\\\\r?\\\\n|\\\\r|\\\\f|$|\\ufeff)', 0): re.compile('([ \\\\t]*)(#[^\\\\n\\\\r\\\\f]*|\\\\\\\\\\\\r?\\\\n|\\\\\\\\\\\\r|\\\\r?\\\\n|\\\\r|\\\\f|$|\\ufeff)'), (<class 'str'>, '(?:\\\\.[^\\\\\\\\/]+|[\\\\\\\\/]__init__\\\\.py)$', 0): re.compile('(?:\\\\.[^\\\\\\\\/]+|[\\\\\\\\/]__init__\\\\.py)$'), (<class 'str'>, '\\\\s*:rtype:\\\\s*([^\\\\n]+)', 8): re.compile('\\\\s*:rtype:\\\\s*([^\\\\n]+)', re.MULTILINE), (<class 'str'>, '\\\\s*@rtype:\\\\s*([^\\\\n]+)', 8): re.compile('\\\\s*@rtype:\\\\s*([^\\\\n]+)', re.MULTILINE), (<class 'str'>, ':[^`]+:`([^`]+)`', 0): re.compile(':[^`]+:`([^`]+)`'), (<class 'str'>, '^\\\\w*(\\\\\\'{3}|\"{3}|\\\\\\'|\")', 0): re.compile('^\\\\w*(\\\\\\'{3}|\"{3}|\\\\\\'|\")'), (<class 'str'>, '(.+)\\\\.(\\\\w*)$', 0): re.compile('(.+)\\\\.(\\\\w*)$'), (<class 'str'>, '(?x)\\n(  # match dict-referring - or any get item object - expression\\n    .+\\n)\\n\\\\[   # open bracket\\n\\\\s*  # and optional whitespace\\n# Capture any number of serializable objects (e.g. \"a\", \"b\", \\'c\\')\\n# and slices\\n((?:(?:\\n    (?: # closed string\\n        [uUbB]?  # string prefix (r not handled)\\n        (?:\\n            \\'(?:[^\\']|(?<!\\\\\\\\)\\\\\\\\\\')*\\'\\n        |\\n            \"(?:[^\"]|(?<!\\\\\\\\)\\\\\\\\\")*\"\\n        )\\n    )\\n    |\\n        # capture integers and slices\\n        (?:[-+]?\\\\d+)?(?::(?:[-+]?\\\\d+)?){0,2}\\n    |\\n        # integer in bin/hex/oct notation\\n        0[bBxXoO]_?(?:\\\\w|\\\\d)+\\n    )\\n    \\\\s*,\\\\s*\\n)*)\\n((?:\\n    (?: # unclosed string\\n        [uUbB]?  # string prefix (r not handled)\\n        (?:\\n            \\'(?:[^\\']|(?<!\\\\\\\\)\\\\\\\\\\')*\\n            |\\n            \"(?:[^\"]|(?<!\\\\\\\\)\\\\\\\\\")*\\n        )\\n    )\\n    |\\n        # unfinished integer\\n        (?:[-+]?\\\\d+)\\n    |\\n        # integer in bin/hex/oct notation\\n        0[bBxXoO]_?(?:\\\\w|\\\\d)+\\n    )\\n)?\\n$\\n', 0): re.compile('(?x)\\n(  # match dict-referring - or any get item object - expression\\n    .+\\n)\\n\\\\[   # open bracket\\n\\\\s*  # and optional whitespace\\n# Capture any number of serializable objects (e.g. \"a\", \"b\", \\, re.VERBOSE), (<class 'str'>, '.*(r|R)[\\\\\"\\'](-*)$', 0): re.compile('.*(r|R)[\\\\\"\\'](-*)$'), (<class 'str'>, '^.*\"\"$', 0): re.compile('^.*\"\"$'), (<class 'str'>, \"^.*''$\", 0): re.compile(\"^.*''$\"), (<class 'str'>, '[,)}\\\\]]|$', 0): re.compile('[,)}\\\\]]|$'), (<class 'str'>, '.*\\\\($', 0): re.compile('.*\\\\($'), (<class 'str'>, '.*\\\\[$', 0): re.compile('.*\\\\[$'), (<class 'str'>, '.*\\\\{$', 0): re.compile('.*\\\\{$'), (<class 'str'>, '.*\"$', 0): re.compile('.*\"$'), (<class 'str'>, \".*'$\", 0): re.compile(\".*'$\"), (<class 'str'>, '^\\\\)', 0): re.compile('^\\\\)'), (<class 'str'>, '^\\\\]', 0): re.compile('^\\\\]'), (<class 'str'>, '^\\\\}', 0): re.compile('^\\\\}'), (<class 'str'>, '^\"', 0): re.compile('^\"'), (<class 'str'>, \"^'\", 0): re.compile(\"^'\"), (<class 'str'>, '^-\\\\d+$|^-\\\\d*\\\\.\\\\d+$', 0): re.compile('^-\\\\d+$|^-\\\\d*\\\\.\\\\d+$'), (<class 'str'>, '\\\\s+', 256): re.compile('\\\\s+', re.ASCII), (<class 'str'>, '\\\\n\\\\n\\\\n+', 0): re.compile('\\\\n\\\\n\\\\n+'), (<class 'str'>, '([\\\\[(]) ', 0): re.compile('([\\\\[(]) '), (<class 'str'>, ' ([\\\\])])', 0): re.compile(' ([\\\\])])'), (<class 'str'>, '[\\\\[(] *[\\\\])]', 0): re.compile('[\\\\[(] *[\\\\])]'), (<class 'str'>, '\\\\(([^|]*)\\\\)', 0): re.compile('\\\\(([^|]*)\\\\)'), (<class 'str'>, '\\\\r\\\\n|\\\\r|\\\\n', 0): re.compile('\\\\r\\\\n|\\\\r|\\\\n'), (<class 'str'>, '(\\\\r\\\\n|\\\\r|\\\\n)', 0): re.compile('(\\\\r\\\\n|\\\\r|\\\\n)'), (<class 'str'>, '(\\\\r\\\\n|\\\\r|\\\\n)\\\\Z', 0): re.compile('(\\\\r\\\\n|\\\\r|\\\\n)\\\\Z'), (<class 'str'>, '^(From |[\\\\041-\\\\071\\\\073-\\\\176]*:|[\\\\t ])', 0): re.compile('^(From |[\\\\041-\\\\071\\\\073-\\\\176]*:|[\\\\t ])'), (<class 'bytes'>, b'[^:\\\\s][^:\\\\r\\\\n]*', 0): re.compile(b'[^:\\\\s][^:\\\\r\\\\n]*'), (<class 'bytes'>, b'\\\\n(?![ \\\\t])|\\\\r(?![ \\\\t\\\\n])', 0): re.compile(b'\\\\n(?![ \\\\t])|\\\\r(?![ \\\\t\\\\n])'), (<class 'str'>, '[\\x00- \\x7f]', 0): re.compile('[\\x00- \\x7f]'), (<class 'str'>, '[\\x00-\\x1f]', 0): re.compile('[\\x00-\\x1f]'), (<class 'str'>, ':\\\\d+$', 256): re.compile(':\\\\d+$', re.ASCII), (<class 'str'>, '(?:^|,)[ \\t]*([^ \\t,]+)[ \\t]+realm=([\"\\']?)([^\"\\']*)\\\\2', 2): re.compile('(?:^|,)[ \\t]*([^ \\t,]+)[ \\t]+realm=([\"\\']?)([^\"\\']*)\\\\2', re.IGNORECASE), (<class 'str'>, '<ipython\\\\-input\\\\-(\\\\d+)-[a-z\\\\d]+>$', 0): re.compile('<ipython\\\\-input\\\\-(\\\\d+)-[a-z\\\\d]+>$'), (<class 'str'>, '\\n(?P<start>\\\\d+)?\\n((?P<sep>[\\\\-:])\\n (?P<end>\\\\d+)?)?\\n$', 64): re.compile('\\n(?P<start>\\\\d+)?\\n((?P<sep>[\\\\-:])\\n (?P<end>\\\\d+)?)?\\n$', re.VERBOSE), (<class 'str'>, '^\\\\w+\\\\.\\\\w+$', 0): re.compile('^\\\\w+\\\\.\\\\w+$'), (<class 'str'>, '\\\\(.*?\\\\)+(?=\\\\s|$)|\\\\[.*?\\\\]+(?=\\\\s|$)|\\\\S+', 0): re.compile('\\\\(.*?\\\\)+(?=\\\\s|$)|\\\\[.*?\\\\]+(?=\\\\s|$)|\\\\S+'), (<class 'str'>, '^(\\\\d{4}-\\\\d{2}-\\\\d{2}T\\\\d{2}:\\\\d{2}:\\\\d{2})(\\\\.\\\\d{1,6})?Z?([\\\\+\\\\-]\\\\d{2}:?\\\\d{2})?$', 0): re.compile('^(\\\\d{4}-\\\\d{2}-\\\\d{2}T\\\\d{2}:\\\\d{2}:\\\\d{2})(\\\\.\\\\d{1,6})?Z?([\\\\+\\\\-]\\\\d{2}:?\\\\d{2})?$'), (<class 'str'>, '(?P<d>3[0-1]|[1-2]\\\\d|0[1-9]|[1-9]| [1-9])', 2): re.compile('(?P<d>3[0-1]|[1-2]\\\\d|0[1-9]|[1-9]| [1-9])', re.IGNORECASE), (<class 'str'>, '^\\\\s*\\n    v?\\n    (?:\\n        (?:(?P<epoch>[0-9]+)!)?                           # epoch\\n        (?P<release>[0-9]+(?:\\\\.[0-9]+)*)                  # release segment\\n        (?P<pre>                                          # pre-release\\n            [-_\\\\.]?\\n            (?P<pre_l>alpha|a|beta|b|preview|pre|c|rc)\\n            [-_\\\\.]?\\n            (?P<pre_n>[0-9]+)?\\n        )?\\n        (?P<post>                                         # post release\\n            (?:-(?P<post_n1>[0-9]+))\\n            |\\n            (?:\\n                [-_\\\\.]?\\n                (?P<post_l>post|rev|r)\\n                [-_\\\\.]?\\n                (?P<post_n2>[0-9]+)?\\n            )\\n        )?\\n        (?P<dev>                                          # dev release\\n            [-_\\\\.]?\\n            (?P<dev_l>dev)\\n            [-_\\\\.]?\\n            (?P<dev_n>[0-9]+)?\\n        )?\\n    )\\n    (?:\\\\+(?P<local>[a-z0-9]+(?:[-_\\\\.][a-z0-9]+)*))?       # local version\\n\\\\s*$', 66): re.compile('^\\\\s*\\n    v?\\n    (?:\\n        (?:(?P<epoch>[0-9]+)!)?                           # epoch\\n        (?P<release>[0-9]+(?:\\\\.[0-9]+)*)                  # release segment\\n        (?P<pre>              , re.IGNORECASE|re.VERBOSE), (<class 'str'>, '[\\\\._-]', 0): re.compile('[\\\\._-]'), (<class 'str'>, '^\\\\w(\\\\-?\\\\w)*$', 0): re.compile('^\\\\w(\\\\-?\\\\w)*$'), (<class 'str'>, '(A)', 0): re.compile('(A)'), (<class 'str'>, '(-*[A-]*)', 0): re.compile('(-*[A-]*)'), (<class 'str'>, '(?s:.*\\\\.py)\\\\Z', 2): re.compile('(?s:.*\\\\.py)\\\\Z', re.IGNORECASE), (<class 'str'>, '[.。．｡]', 0): re.compile('[.。．｡]'), (<class 'str'>, '\\n                            \\\\s* ([^\\\\s;]+) \\\\s*            #content-coding\\n                            (;\\\\s* q \\\\s*=\\\\s* ([0-9\\\\.]+))? #q\\n                            ', 66): re.compile('\\n                            \\\\s* ([^\\\\s;]+) \\\\s*            #content-coding\\n                            (;\\\\s* q \\\\s*=\\\\s* ([0-9\\\\.]+))? #q\\n                            ', re.IGNORECASE|re.VERBOSE), (<class 'str'>, '^\\\\s*@', 0): re.compile('^\\\\s*@'), (<class 'str'>, '[^#]*#.*@IgnoreException', 0): re.compile('[^#]*#.*@IgnoreException'), (<class 'str'>, '(?P<name>[^\\\\W\\\\d]\\\\w*?)(?P<package>[/\\\\\\\\]__init__)?(?P<suffix>\\\\.py|\\\\.pyw|\\\\.pyc|\\\\.cp311\\\\-win_amd64\\\\.pyd|\\\\.pyd)$', 0): re.compile('(?P<name>[^\\\\W\\\\d]\\\\w*?)(?P<package>[/\\\\\\\\]__init__)?(?P<suffix>\\\\.py|\\\\.pyw|\\\\.pyc|\\\\.cp311\\\\-win_amd64\\\\.pyd|\\\\.pyd)$'), (<class 'str'>, '.*(\\\\.ipy|\\\\.ipynb|\\\\.py[w]?)$', 0): re.compile('.*(\\\\.ipy|\\\\.ipynb|\\\\.py[w]?)$'), (<class 'str'>, '[\\\\ \\\\\\t\\\\\\n\\\\`\\\\!\\\\@\\\\#\\\\$\\\\^\\\\&\\\\*\\\\(\\\\)\\\\=\\\\+\\\\[\\\\{\\\\]\\\\}\\\\|\\\\;\\\\\\'\\\\\"\\\\,\\\\<\\\\>\\\\?]', 0): re.compile('[\\\\ \\\\\\t\\\\\\n\\\\`\\\\!\\\\@\\\\#\\\\$\\\\^\\\\&\\\\*\\\\(\\\\)\\\\=\\\\+\\\\[\\\\{\\\\]\\\\}\\\\|\\\\;\\\\\\'\\\\\"\\\\,\\\\<\\\\>\\\\?]'), (<class 'str'>, '([^\\\\\\\\] )', 0): re.compile('([^\\\\\\\\] )'), (<class 'str'>, '^[\\\\w|\\\\s.]+\\\\(([^)]*)\\\\).*', 0): re.compile('^[\\\\w|\\\\s.]+\\\\(([^)]*)\\\\).*'), (<class 'str'>, '[\\\\s|\\\\[]*(\\\\w+)(?:\\\\s*=\\\\s*.*)', 0): re.compile('[\\\\s|\\\\[]*(\\\\w+)(?:\\\\s*=\\\\s*.*)'), (<class 'str'>, '(.*)\\\\.(COM|EXE|BAT|CMD|VBS|VBE|JS|JSE|WSF|WSH|MSC)$', 2): re.compile('(.*)\\\\.(COM|EXE|BAT|CMD|VBS|VBE|JS|JSE|WSF|WSH|MSC)$', re.IGNORECASE), (<class 'str'>, '(?s:.*\\\\.py)\\\\Z', 0): re.compile('(?s:.*\\\\.py)\\\\Z'), (<class 'str'>, '(?s:.*\\\\.ipy)\\\\Z', 0): re.compile('(?s:.*\\\\.ipy)\\\\Z'), (<class 'str'>, '[ \\\\f\\\\t]*((\\\\\\\\\\\\r?\\\\n|\\\\Z|#[^\\\\r\\\\n]*|((|bR|br|BR|rB|Rb|rf|Rf|U|f|F|Br|r|B|R|RB|fr|RF|b|u|rb|rF|Fr|FR|fR)\\'\\'\\'|(|bR|br|BR|rB|Rb|rf|Rf|U|f|F|Br|r|B|R|RB|fr|RF|b|u|rb|rF|Fr|FR|fR)\"\"\"))|(([0-9](?:_?[0-9])*[jJ]|(([0-9](?:_?[0-9])*\\\\.(?:[0-9](?:_?[0-9])*)?|\\\\.[0-9](?:_?[0-9])*)([eE][-+]?[0-9](?:_?[0-9])*)?|[0-9](?:_?[0-9])*[eE][-+]?[0-9](?:_?[0-9])*)[jJ])|(([0-9](?:_?[0-9])*\\\\.(?:[0-9](?:_?[0-9])*)?|\\\\.[0-9](?:_?[0-9])*)([eE][-+]?[0-9](?:_?[0-9])*)?|[0-9](?:_?[0-9])*[eE][-+]?[0-9](?:_?[0-9])*)|(0[xX](?:_?[0-9a-fA-F])+|0[bB](?:_?[01])+|0[oO](?:_?[0-7])+|(?:0(?:_?0)*|[1-9](?:_?[0-9])*)))|(\\\\r?\\\\n|(\\\\~|\\\\}|\\\\|=|\\\\||\\\\{|\\\\^=|\\\\^|\\\\]|\\\\[|@=|@|>>=|>>|>=|>|==|=|<=|<<=|<<|<|;|:=|:|/=|//=|//|/|\\\\.\\\\.\\\\.|\\\\.|\\\\->|\\\\-=|\\\\-|,|\\\\+=|\\\\+|\\\\*=|\\\\*\\\\*=|\\\\*\\\\*|\\\\*|\\\\)|\\\\(|\\\\&=|\\\\&|%=|%|!=))|((|bR|br|BR|rB|Rb|rf|Rf|U|f|F|Br|r|B|R|RB|fr|RF|b|u|rb|rF|Fr|FR|fR)\\'[^\\\\n\\'\\\\\\\\]*(?:\\\\\\\\.[^\\\\n\\'\\\\\\\\]*)*(\\'|\\\\\\\\\\\\r?\\\\n)|(|bR|br|BR|rB|Rb|rf|Rf|U|f|F|Br|r|B|R|RB|fr|RF|b|u|rb|rF|Fr|FR|fR)\"[^\\\\n\"\\\\\\\\]*(?:\\\\\\\\.[^\\\\n\"\\\\\\\\]*)*(\"|\\\\\\\\\\\\r?\\\\n))|\\\\w+)', 32): re.compile('[ \\\\f\\\\t]*((\\\\\\\\\\\\r?\\\\n|\\\\Z|#[^\\\\r\\\\n]*|((|bR|br|BR|rB|Rb|rf|Rf|U|f|F|Br|r|B|R|RB|fr|RF|b|u|rb|rF|Fr|FR|fR)\\'\\'\\'|(|bR|br|BR|rB|Rb|rf|Rf|U|f|F|Br|r|B|R|RB|fr|RF|b|u|rb|rF|Fr|FR|fR)\"\"\"))|(([0-9](?:_?[), (<class 'str'>, '[^_]+(_[^_]+)+?\\\\Z', 0): re.compile('[^_]+(_[^_]+)+?\\\\Z'), (<class 'str'>, '\\\\._.*?', 0): re.compile('\\\\._.*?'), (<class 'str'>, '(?s:__file__\\\\..*)\\\\Z', 0): re.compile('(?s:__file__\\\\..*)\\\\Z'), (<class 'str'>, '<ipython-input-|[/\\\\\\\\]ipykernel_\\\\d+[/\\\\\\\\]', 0): re.compile('<ipython-input-|[/\\\\\\\\]ipykernel_\\\\d+[/\\\\\\\\]'), (<class 'str'>, '(<module>|<cell line: \\\\d+>)$', 0): re.compile('(<module>|<cell line: \\\\d+>)$'), (<class 'str'>, '\\\\n', 8): re.compile('\\\\n', re.MULTILINE), (<class 'str'>, '^(\\\\s*)([rRuUbB]{,2})(\"\"\"(?:.|\\\\n)*?\"\"\")', 8): re.compile('^(\\\\s*)([rRuUbB]{,2})(\"\"\"(?:.|\\\\n)*?\"\"\")', re.MULTILINE), (<class 'str'>, \"^(\\\\s*)([rRuUbB]{,2})('''(?:.|\\\\n)*?''')\", 8): re.compile(\"^(\\\\s*)([rRuUbB]{,2})('''(?:.|\\\\n)*?''')\", re.MULTILINE), (<class 'str'>, '\\\\A#!.+$', 8): re.compile('\\\\A#!.+$', re.MULTILINE), (<class 'str'>, '#.*$', 8): re.compile('#.*$', re.MULTILINE), (<class 'str'>, '\\\\\\\\\\\\n', 8): re.compile('\\\\\\\\\\\\n', re.MULTILINE), (<class 'str'>, '\\\\\\\\', 8): re.compile('\\\\\\\\', re.MULTILINE), (<class 'str'>, '(a(?:s(?:(?:sert|ync)?)|wait)|break|continue|del|e(?:l(?:if|se)|xcept)|f(?:inally|or)|global|if|lambda|nonlocal|pass|r(?:aise|eturn)|try|w(?:hile|ith)|yield(?:(?:\\\\ from)?))\\\\b', 8): re.compile('(a(?:s(?:(?:sert|ync)?)|wait)|break|continue|del|e(?:l(?:if|se)|xcept)|f(?:inally|or)|global|if|lambda|nonlocal|pass|r(?:aise|eturn)|try|w(?:hile|ith)|yield(?:(?:\\\\ from)?))\\\\b', re.MULTILINE), (<class 'str'>, '((?:Fals|Non|Tru)e)\\\\b', 8): re.compile('((?:Fals|Non|Tru)e)\\\\b', re.MULTILINE), (<class 'str'>, '(^[ \\\\t]*)(match|case)\\\\b(?![ \\\\t]*(?:[:,;=^&|@~)\\\\]}]|(?:and|as|assert|async|await|break|class|continue|def|del|elif|else|except|finally|for|from|global|if|import|in|is|lambda|nonlocal|not|or|pass|raise|return|try|while|with|yield)\\\\b))', 8): re.compile('(^[ \\\\t]*)(match|case)\\\\b(?![ \\\\t]*(?:[:,;=^&|@~)\\\\]}]|(?:and|as|assert|async|await|break|class|continue|def|del|elif|else|except|finally|for|from|global|if|import|in|is|lambda|nonlocal|not|or|pass|r, re.MULTILINE), (<class 'str'>, '(def)((?:\\\\s|\\\\\\\\\\\\s)+)', 8): re.compile('(def)((?:\\\\s|\\\\\\\\\\\\s)+)', re.MULTILINE), (<class 'str'>, '(class)((?:\\\\s|\\\\\\\\\\\\s)+)', 8): re.compile('(class)((?:\\\\s|\\\\\\\\\\\\s)+)', re.MULTILINE), (<class 'str'>, '(from)((?:\\\\s|\\\\\\\\\\\\s)+)', 8): re.compile('(from)((?:\\\\s|\\\\\\\\\\\\s)+)', re.MULTILINE), (<class 'str'>, '(import)((?:\\\\s|\\\\\\\\\\\\s)+)', 8): re.compile('(import)((?:\\\\s|\\\\\\\\\\\\s)+)', re.MULTILINE), (<class 'str'>, '(?i)(rf|fr)(\"\"\")', 8): re.compile('(?i)(rf|fr)(\"\"\")', re.IGNORECASE|re.MULTILINE), (<class 'str'>, '\\\\{\\\\{', 8): re.compile('\\\\{\\\\{', re.MULTILINE), (<class 'str'>, '\\\\}\\\\}', 8): re.compile('\\\\}\\\\}', re.MULTILINE), (<class 'str'>, '\"\"\"', 8): re.compile('\"\"\"', re.MULTILINE), (<class 'str'>, '\\\\}', 8): re.compile('\\\\}', re.MULTILINE), (<class 'str'>, '\\\\{', 8): re.compile('\\\\{', re.MULTILINE), (<class 'str'>, '[^\\\\\\\\\\\\\\'\"{}\\\\n]+', 8): re.compile('[^\\\\\\\\\\\\\\'\"{}\\\\n]+', re.MULTILINE), (<class 'str'>, '[\\\\\\'\"\\\\\\\\]', 8): re.compile('[\\\\\\'\"\\\\\\\\]', re.MULTILINE), (<class 'str'>, \"(?i)(rf|fr)(''')\", 8): re.compile(\"(?i)(rf|fr)(''')\", re.IGNORECASE|re.MULTILINE), (<class 'str'>, \"'''\", 8): re.compile(\"'''\", re.MULTILINE), (<class 'str'>, '(?i)(rf|fr)(\")', 8): re.compile('(?i)(rf|fr)(\")', re.IGNORECASE|re.MULTILINE), (<class 'str'>, '\"', 8): re.compile('\"', re.MULTILINE), (<class 'str'>, '\\\\\\\\\\\\\\\\|\\\\\\\\\"|\\\\\\\\\\\\n', 8): re.compile('\\\\\\\\\\\\\\\\|\\\\\\\\\"|\\\\\\\\\\\\n', re.MULTILINE), (<class 'str'>, \"(?i)(rf|fr)(')\", 8): re.compile(\"(?i)(rf|fr)(')\", re.IGNORECASE|re.MULTILINE), (<class 'str'>, \"'\", 8): re.compile(\"'\", re.MULTILINE), (<class 'str'>, \"\\\\\\\\\\\\\\\\|\\\\\\\\'|\\\\\\\\\\\\n\", 8): re.compile(\"\\\\\\\\\\\\\\\\|\\\\\\\\'|\\\\\\\\\\\\n\", re.MULTILINE), (<class 'str'>, '([fF])(\"\"\")', 8): re.compile('([fF])(\"\"\")', re.MULTILINE), (<class 'str'>, '\\\\\\\\(N\\\\{.*?\\\\}|u[a-fA-F0-9]{4}|U[a-fA-F0-9]{8})', 8): re.compile('\\\\\\\\(N\\\\{.*?\\\\}|u[a-fA-F0-9]{4}|U[a-fA-F0-9]{8})', re.MULTILINE), (<class 'str'>, '\\\\\\\\([\\\\\\\\abfnrtv\"\\\\\\']|\\\\n|x[a-fA-F0-9]{2}|[0-7]{1,3})', 8): re.compile('\\\\\\\\([\\\\\\\\abfnrtv\"\\\\\\']|\\\\n|x[a-fA-F0-9]{2}|[0-7]{1,3})', re.MULTILINE), (<class 'str'>, \"([fF])(''')\", 8): re.compile(\"([fF])(''')\", re.MULTILINE), (<class 'str'>, '([fF])(\")', 8): re.compile('([fF])(\")', re.MULTILINE), (<class 'str'>, \"([fF])(')\", 8): re.compile(\"([fF])(')\", re.MULTILINE), (<class 'str'>, '(?i)(rb|br|r)(\"\"\")', 8): re.compile('(?i)(rb|br|r)(\"\"\")', re.IGNORECASE|re.MULTILINE), (<class 'str'>, \"(?i)(rb|br|r)(''')\", 8): re.compile(\"(?i)(rb|br|r)(''')\", re.IGNORECASE|re.MULTILINE), (<class 'str'>, '(?i)(rb|br|r)(\")', 8): re.compile('(?i)(rb|br|r)(\")', re.IGNORECASE|re.MULTILINE), (<class 'str'>, \"(?i)(rb|br|r)(')\", 8): re.compile(\"(?i)(rb|br|r)(')\", re.IGNORECASE|re.MULTILINE), (<class 'str'>, '([uU]?)(\"\"\")', 8): re.compile('([uU]?)(\"\"\")', re.MULTILINE), (<class 'str'>, '%(\\\\(\\\\w+\\\\))?[-#0 +]*([0-9]+|[*])?(\\\\.([0-9]+|[*]))?[hlL]?[E-GXc-giorsaux%]', 8): re.compile('%(\\\\(\\\\w+\\\\))?[-#0 +]*([0-9]+|[*])?(\\\\.([0-9]+|[*]))?[hlL]?[E-GXc-giorsaux%]', re.MULTILINE), (<class 'str'>, '\\\\{((\\\\w+)((\\\\.\\\\w+)|(\\\\[[^\\\\]]+\\\\]))*)?(\\\\![sra])?(\\\\:(.?[<>=\\\\^])?[-+ ]?#?0?(\\\\d+)?,?(\\\\.\\\\d+)?[E-GXb-gnosx%]?)?\\\\}', 8): re.compile('\\\\{((\\\\w+)((\\\\.\\\\w+)|(\\\\[[^\\\\]]+\\\\]))*)?(\\\\![sra])?(\\\\:(.?[<>=\\\\^])?[-+ ]?#?0?(\\\\d+)?,?(\\\\.\\\\d+)?[E-GXb-gnosx%]?)?\\\\}', re.MULTILINE), (<class 'str'>, '[^\\\\\\\\\\\\\\'\"%{\\\\n]+', 8): re.compile('[^\\\\\\\\\\\\\\'\"%{\\\\n]+', re.MULTILINE), (<class 'str'>, '%|(\\\\{{1,2})', 8): re.compile('%|(\\\\{{1,2})', re.MULTILINE), (<class 'str'>, \"([uU]?)(''')\", 8): re.compile(\"([uU]?)(''')\", re.MULTILINE), (<class 'str'>, '([uU]?)(\")', 8): re.compile('([uU]?)(\")', re.MULTILINE), (<class 'str'>, \"([uU]?)(')\", 8): re.compile(\"([uU]?)(')\", re.MULTILINE), (<class 'str'>, '([bB])(\"\"\")', 8): re.compile('([bB])(\"\"\")', re.MULTILINE), (<class 'str'>, \"([bB])(''')\", 8): re.compile(\"([bB])(''')\", re.MULTILINE), (<class 'str'>, '([bB])(\")', 8): re.compile('([bB])(\")', re.MULTILINE), (<class 'str'>, \"([bB])(')\", 8): re.compile(\"([bB])(')\", re.MULTILINE), (<class 'str'>, '[^\\\\S\\\\n]+', 8): re.compile('[^\\\\S\\\\n]+', re.MULTILINE), (<class 'str'>, '(\\\\d(?:_?\\\\d)*\\\\.(?:\\\\d(?:_?\\\\d)*)?|(?:\\\\d(?:_?\\\\d)*)?\\\\.\\\\d(?:_?\\\\d)*)([eE][+-]?\\\\d(?:_?\\\\d)*)?', 8): re.compile('(\\\\d(?:_?\\\\d)*\\\\.(?:\\\\d(?:_?\\\\d)*)?|(?:\\\\d(?:_?\\\\d)*)?\\\\.\\\\d(?:_?\\\\d)*)([eE][+-]?\\\\d(?:_?\\\\d)*)?', re.MULTILINE), (<class 'str'>, '\\\\d(?:_?\\\\d)*[eE][+-]?\\\\d(?:_?\\\\d)*j?', 8): re.compile('\\\\d(?:_?\\\\d)*[eE][+-]?\\\\d(?:_?\\\\d)*j?', re.MULTILINE), (<class 'str'>, '0[oO](?:_?[0-7])+', 8): re.compile('0[oO](?:_?[0-7])+', re.MULTILINE), (<class 'str'>, '0[bB](?:_?[01])+', 8): re.compile('0[bB](?:_?[01])+', re.MULTILINE), (<class 'str'>, '0[xX](?:_?[a-fA-F0-9])+', 8): re.compile('0[xX](?:_?[a-fA-F0-9])+', re.MULTILINE), (<class 'str'>, '\\\\d(?:_?\\\\d)*', 8): re.compile('\\\\d(?:_?\\\\d)*', re.MULTILINE), (<class 'str'>, '!=|==|<<|>>|:=|[-~+/*%=<>&^|.]', 8): re.compile('!=|==|<<|>>|:=|[-~+/*%=<>&^|.]', re.MULTILINE), (<class 'str'>, '[]{}:(),;[]', 8): re.compile('[]{}:(),;[]', re.MULTILINE), (<class 'str'>, '(in|is|and|or|not)\\\\b', 8): re.compile('(in|is|and|or|not)\\\\b', re.MULTILINE), (<class 'str'>, '(a(?:sync\\\\ for|wait)|else|for|if|lambda|yield(?:(?:\\\\ from)?))\\\\b', 8): re.compile('(a(?:sync\\\\ for|wait)|else|for|if|lambda|yield(?:(?:\\\\ from)?))\\\\b', re.MULTILINE), (<class 'str'>, '(?<!\\\\.)(__import__|a(?:bs|iter|ll|ny)|b(?:in|ool|reakpoint|yte(?:array|s))|c(?:allable|hr|lassmethod|omp(?:ile|lex))|d(?:elattr|i(?:ct|r|vmod))|e(?:numerate|val)|f(?:ilter|(?:loa|orma|rozense)t)|g(?:etattr|lobals)|h(?:as(?:attr|h)|ex)|i(?:d|n(?:(?:(?:pu)?)t)|s(?:instance|subclass)|ter)|l(?:en|ist|ocals)|m(?:a(?:[px])|emoryview|in)|next|o(?:bject|ct|pen|rd)|p(?:ow|r(?:int|operty))|r(?:ange|e(?:pr|versed)|ound)|s(?:et(?:(?:attr)?)|lice|orted|t(?:aticmethod|r)|u(?:m|per))|t(?:(?:upl|yp)e)|vars|zip)\\\\b', 8): re.compile('(?<!\\\\.)(__import__|a(?:bs|iter|ll|ny)|b(?:in|ool|reakpoint|yte(?:array|s))|c(?:allable|hr|lassmethod|omp(?:ile|lex))|d(?:elattr|i(?:ct|r|vmod))|e(?:numerate|val)|f(?:ilter|(?:loa|orma|rozense)t)|g(?, re.MULTILINE), (<class 'str'>, '(?<!\\\\.)(self|Ellipsis|NotImplemented|cls)\\\\b', 8): re.compile('(?<!\\\\.)(self|Ellipsis|NotImplemented|cls)\\\\b', re.MULTILINE), (<class 'str'>, '(?<!\\\\.)(A(?:(?:rithmetic|ssertion|ttribute)Error)|B(?:aseException|lockingIOError|rokenPipeError|ufferError|ytesWarning)|C(?:(?:hildProcess|onnection(?:(?:Aborted|Re(?:fused|set))?))Error)|DeprecationWarning|E(?:OFError|n(?:codingWarning|vironmentError)|xception)|F(?:ile(?:(?:Exists|NotFound)Error)|loatingPointError|utureWarning)|GeneratorExit|I(?:OError|mport(?:Error|Warning)|(?:n(?:de(?:ntation|x)|terrupted)|sADirectory)Error)|Key(?:Error|boardInterrupt)|LookupError|M(?:(?:emory|oduleNotFound)Error)|N(?:(?:ame|ot(?:ADirectory|Implemented))Error)|O(?:(?:S|verflow)Error)|P(?:e(?:ndingDeprecationWarning|rmissionError)|rocessLookupError)|R(?:e(?:cursionError|ferenceError|sourceWarning)|untime(?:Error|Warning))|S(?:top(?:(?:(?:Async)?)Iteration)|y(?:ntax(?:Error|Warning)|stemE(?:rror|xit)))|T(?:(?:ab|imeout|ype)Error)|U(?:n(?:boundLocalError|icode(?:DecodeError|E(?:(?:(?:ncodeE)?)rror)|TranslateError|Warning))|serWarning)|V(?:(?:MS|alue)Error)|W(?:arning|indowsError)|ZeroDivisionError)\\\\b', 8): re.compile('(?<!\\\\.)(A(?:(?:rithmetic|ssertion|ttribute)Error)|B(?:aseException|lockingIOError|rokenPipeError|ufferError|ytesWarning)|C(?:(?:hildProcess|onnection(?:(?:Aborted|Re(?:fused|set))?))Error)|Deprecati, re.MULTILINE), (<class 'str'>, '(__(?:(?:a(?:bs|dd|e(?:nter|xit)|iter|n(?:d|ext)|wait)|b(?:ool|ytes)|c(?:all|o(?:mplex|ntains))|d(?:el(?:(?:attr|ete|item)?)|i(?:r|vmod))|e(?:nter|q|xit)|f(?:lo(?:at|ordiv)|ormat)|g(?:et(?:(?:attr(?:(?:ibute)?)|item)?)|[et])|hash|i(?:a(?:(?:[dn])d)|floordiv|lshift|m(?:atmul|od|ul)|n(?:dex|it|stancecheck|(?:(?:ver)?)t)|or|pow|rshift|sub|t(?:er|ruediv)|xor)|l(?:en(?:(?:gth_hint)?)|shift|[et])|m(?:atmul|issing|od|ul)|ne(?:(?:xt|[gw])?)|or|p(?:o(?:[sw])|repare)|r(?:a(?:(?:[dn])d)|divmod|e(?:pr|versed)|floordiv|lshift|m(?:atmul|od|ul)|o(?:r|und)|pow|rshift|s(?:hift|ub)|truediv|xor)|s(?:et(?:(?:attr|item)?)|tr|ub(?:(?:classcheck)?))|truediv|xor)__))\\\\b', 8): re.compile('(__(?:(?:a(?:bs|dd|e(?:nter|xit)|iter|n(?:d|ext)|wait)|b(?:ool|ytes)|c(?:all|o(?:mplex|ntains))|d(?:el(?:(?:attr|ete|item)?)|i(?:r|vmod))|e(?:nter|q|xit)|f(?:lo(?:at|ordiv)|ormat)|g(?:et(?:(?:attr(?:, re.MULTILINE), (<class 'str'>, '(__(?:(?:annotations|bases|c(?:l(?:ass|osure)|ode)|d(?:efaults|ict|oc)|f(?:ile|unc)|globals|kwdefaults|m(?:odule|ro)|name|objclass|qualname|s(?:elf|lots)|weakref)__))\\\\b', 8): re.compile('(__(?:(?:annotations|bases|c(?:l(?:ass|osure)|ode)|d(?:efaults|ict|oc)|f(?:ile|unc)|globals|kwdefaults|m(?:odule|ro)|name|objclass|qualname|s(?:elf|lots)|weakref)__))\\\\b', re.MULTILINE), (<class 'str'>, '@[A-Z_a-zªµºÀ-ÖØ-öø-ˁˆ-ˑˠ-ˤˬˮͰ-ʹͶ-ͷͻ-ͽͿΆΈ-ΊΌΎ-ΡΣ-ϵϷ-ҁҊ-ԯԱ-Ֆՙՠ-ֈא-תׯ-ײؠ-يٮ-ٯٱ-ۓەۥ-ۦۮ-ۯۺ-ۼۿܐܒ-ܯݍ-ޥޱߊ-ߪߴ-ߵߺࠀ-ࠕࠚࠤࠨࡀ-ࡘࡠ-ࡪࢠ-ࢴࢶ-ࢽऄ-हऽॐक़-ॡॱ-ঀঅ-ঌএ-ঐও-নপ-রলশ-হঽৎড়-ঢ়য়-ৡৰ-ৱৼਅ-ਊਏ-ਐਓ-ਨਪ-ਰਲ-ਲ਼ਵ-ਸ਼ਸ-ਹਖ਼-ੜਫ਼ੲ-ੴઅ-ઍએ-ઑઓ-નપ-રલ-ળવ-હઽૐૠ-ૡૹଅ-ଌଏ-ଐଓ-ନପ-ରଲ-ଳଵ-ହଽଡ଼-ଢ଼ୟ-ୡୱஃஅ-ஊஎ-ஐஒ-கங-சஜஞ-டண-தந-பம-ஹௐఅ-ఌఎ-ఐఒ-నప-హఽౘ-ౚౠ-ౡಀಅ-ಌಎ-ಐಒ-ನಪ-ಳವ-ಹಽೞೠ-ೡೱ-ೲഅ-ഌഎ-ഐഒ-ഺഽൎൔ-ൖൟ-ൡൺ-ൿඅ-ඖක-නඳ-රලව-ෆก-ะาเ-ๆກ-ຂຄງ-ຈຊຍດ-ທນ-ຟມ-ຣລວສ-ຫອ-ະາຽເ-ໄໆໜ-ໟༀཀ-ཇཉ-ཬྈ-ྌက-ဪဿၐ-ၕၚ-ၝၡၥ-ၦၮ-ၰၵ-ႁႎႠ-ჅჇჍა-ჺჼ-ቈቊ-ቍቐ-ቖቘቚ-ቝበ-ኈኊ-ኍነ-ኰኲ-ኵኸ-ኾዀዂ-ዅወ-ዖዘ-ጐጒ-ጕጘ-ፚᎀ-ᎏᎠ-Ᏽᏸ-ᏽᐁ-ᙬᙯ-ᙿᚁ-ᚚᚠ-ᛪᛮ-ᛸᜀ-ᜌᜎ-ᜑᜠ-ᜱᝀ-ᝑᝠ-ᝬᝮ-ᝰក-ឳៗៜᠠ-ᡸᢀ-ᢨᢪᢰ-ᣵᤀ-ᤞᥐ-ᥭᥰ-ᥴᦀ-ᦫᦰ-ᧉᨀ-ᨖᨠ-ᩔᪧᬅ-ᬳᭅ-ᭋᮃ-ᮠᮮ-ᮯᮺ-ᯥᰀ-ᰣᱍ-ᱏᱚ-ᱽᲀ-ᲈᲐ-ᲺᲽ-Ჿᳩ-ᳬᳮ-ᳱᳵ-ᳶᴀ-ᶿḀ-ἕἘ-Ἕἠ-ὅὈ-Ὅὐ-ὗὙὛὝὟ-ώᾀ-ᾴᾶ-ᾼιῂ-ῄῆ-ῌῐ-ΐῖ-Ίῠ-Ῥῲ-ῴῶ-ῼⁱⁿₐ-ₜℂℇℊ-ℓℕ℘-ℝℤΩℨK-ℹℼ-ℿⅅ-ⅉⅎⅠ-ↈⰀ-Ⱞⰰ-ⱞⱠ-ⳤⳫ-ⳮⳲ-ⳳⴀ-ⴥⴧⴭⴰ-ⵧⵯⶀ-ⶖⶠ-ⶦⶨ-ⶮⶰ-ⶶⶸ-ⶾⷀ-ⷆⷈ-ⷎⷐ-ⷖⷘ-ⷞ々-〇〡-〩〱-〵〸-〼ぁ-ゖゝ-ゟァ-ヺー-ヿㄅ-ㄯㄱ-ㆎㆠ-ㆺㇰ-ㇿ㐀-䶵一-鿯ꀀ-ꒌꓐ-ꓽꔀ-ꘌꘐ-ꘟꘪ-ꘫꙀ-ꙮꙿ-ꚝꚠ-ꛯꜗ-ꜟꜢ-ꞈꞋ-ꞹꟷ-ꠁꠃ-ꠅꠇ-ꠊꠌ-ꠢꡀ-ꡳꢂ-ꢳꣲ-ꣷꣻꣽ-ꣾꤊ-ꤥꤰ-ꥆꥠ-ꥼꦄ-ꦲꧏꧠ-ꧤꧦ-ꧯꧺ-ꧾꨀ-ꨨꩀ-ꩂꩄ-ꩋꩠ-ꩶꩺꩾ-ꪯꪱꪵ-ꪶꪹ-ꪽꫀꫂꫛ-ꫝꫠ-ꫪꫲ-ꫴꬁ-ꬆꬉ-ꬎꬑ-ꬖꬠ-ꬦꬨ-ꬮꬰ-ꭚꭜ-ꭥꭰ-ꯢ가-힣ힰ-ퟆퟋ-ퟻ豈-舘並-龎ﬀ-ﬆﬓ-ﬗיִײַ-ﬨשׁ-זּטּ-לּמּנּ-סּףּ-פּצּ-ﮱﯓ-ﱝﱤ-ﴽﵐ-ﶏﶒ-ﷇﷰ-ﷹﹱﹳﹷﹹﹻﹽﹿ-ﻼＡ-Ｚａ-ｚｦ-ﾝﾠ-ﾾￂ-ￇￊ-ￏￒ-ￗￚ-ￜ𐀀-𐀋𐀍-𐀦𐀨-𐀺𐀼-𐀽𐀿-𐁍𐁐-𐁝𐂀-𐃺𐅀-𐅴𐊀-𐊜𐊠-𐋐𐌀-𐌟𐌭-𐍊𐍐-𐍵𐎀-𐎝𐎠-𐏃𐏈-𐏏𐏑-𐏕𐐀-𐒝𐒰-𐓓𐓘-𐓻𐔀-𐔧𐔰-𐕣𐘀-𐜶𐝀-𐝕𐝠-𐝧𐠀-𐠅𐠈𐠊-𐠵𐠷-𐠸𐠼𐠿-𐡕𐡠-𐡶𐢀-𐢞𐣠-𐣲𐣴-𐣵𐤀-𐤕𐤠-𐤹𐦀-𐦷𐦾-𐦿𐨀𐨐-𐨓𐨕-𐨗𐨙-𐨵𐩠-𐩼𐪀-𐪜𐫀-𐫇𐫉-𐫤𐬀-𐬵𐭀-𐭕𐭠-𐭲𐮀-𐮑𐰀-𐱈𐲀-𐲲𐳀-𐳲𐴀-𐴣𐼀-𐼜𐼧𐼰-𐽅𑀃-𑀷𑂃-𑂯𑃐-𑃨𑄃-𑄦𑅄𑅐-𑅲𑅶𑆃-𑆲𑇁-𑇄𑇚𑇜𑈀-𑈑𑈓-𑈫𑊀-𑊆𑊈𑊊-𑊍𑊏-𑊝𑊟-𑊨𑊰-𑋞𑌅-𑌌𑌏-𑌐𑌓-𑌨𑌪-𑌰𑌲-𑌳𑌵-𑌹𑌽𑍐𑍝-𑍡𑐀-𑐴𑑇-𑑊𑒀-𑒯𑓄-𑓅𑓇𑖀-𑖮𑗘-𑗛𑘀-𑘯𑙄𑚀-𑚪𑜀-𑜚𑠀-𑠫𑢠-𑣟𑣿𑨀𑨋-𑨲𑨺𑩐𑩜-𑪃𑪆-𑪉𑪝𑫀-𑫸𑰀-𑰈𑰊-𑰮𑱀𑱲-𑲏𑴀-𑴆𑴈-𑴉𑴋-𑴰𑵆𑵠-𑵥𑵧-𑵨𑵪-𑶉𑶘𑻠-𑻲𒀀-𒎙𒐀-𒑮𒒀-𒕃𓀀-𓐮𔐀-𔙆𖠀-𖨸𖩀-𖩞𖫐-𖫭𖬀-𖬯𖭀-𖭃𖭣-𖭷𖭽-𖮏𖹀-𖹿𖼀-𖽄𖽐𖾓-𖾟𖿠-𖿡𗀀-𘟱𘠀-𘫲𛀀-𛄞𛅰-𛋻𛰀-𛱪𛱰-𛱼𛲀-𛲈𛲐-𛲙𝐀-𝑔𝑖-𝒜𝒞-𝒟𝒢𝒥-𝒦𝒩-𝒬𝒮-𝒹𝒻𝒽-𝓃𝓅-𝔅𝔇-𝔊𝔍-𝔔𝔖-𝔜𝔞-𝔹𝔻-𝔾𝕀-𝕄𝕆𝕊-𝕐𝕒-𝚥𝚨-𝛀𝛂-𝛚𝛜-𝛺𝛼-𝜔𝜖-𝜴𝜶-𝝎𝝐-𝝮𝝰-𝞈𝞊-𝞨𝞪-𝟂𝟄-𝟋𞠀-𞣄𞤀-𞥃𞸀-𞸃𞸅-𞸟𞸡-𞸢𞸤𞸧𞸩-𞸲𞸴-𞸷𞸹𞸻𞹂𞹇𞹉𞹋𞹍-𞹏𞹑-𞹒𞹔𞹗𞹙𞹛𞹝𞹟𞹡-𞹢𞹤𞹧-𞹪𞹬-𞹲𞹴-𞹷𞹹-𞹼𞹾𞺀-𞺉𞺋-𞺛𞺡-𞺣𞺥-𞺩𞺫-𞺻𠀀-𪛖𪜀-𫜴𫝀-𫠝𫠠-𬺡𬺰-𮯠丽-𪘀][0-9A-Z_a-zªµ·ºÀ-ÖØ-öø-ˁˆ-ˑˠ-ˤˬˮ̀-ʹͶ-ͷͻ-ͽͿΆ-ΊΌΎ-ΡΣ-ϵϷ-ҁ҃-҇Ҋ-ԯԱ-Ֆՙՠ-ֈ֑-ֽֿׁ-ׂׄ-ׇׅא-תׯ-ײؐ-ؚؠ-٩ٮ-ۓە-ۜ۟-۪ۨ-ۼۿܐ-݊ݍ-ޱ߀-ߵߺ߽ࠀ-࠭ࡀ-࡛ࡠ-ࡪࢠ-ࢴࢶ-ࢽ࣓-ࣣ࣡-ॣ०-९ॱ-ঃঅ-ঌএ-ঐও-নপ-রলশ-হ়-ৄে-ৈো-ৎৗড়-ঢ়য়-ৣ০-ৱৼ৾ਁ-ਃਅ-ਊਏ-ਐਓ-ਨਪ-ਰਲ-ਲ਼ਵ-ਸ਼ਸ-ਹ਼ਾ-ੂੇ-ੈੋ-੍ੑਖ਼-ੜਫ਼੦-ੵઁ-ઃઅ-ઍએ-ઑઓ-નપ-રલ-ળવ-હ઼-ૅે-ૉો-્ૐૠ-ૣ૦-૯ૹ-૿ଁ-ଃଅ-ଌଏ-ଐଓ-ନପ-ରଲ-ଳଵ-ହ଼-ୄେ-ୈୋ-୍ୖ-ୗଡ଼-ଢ଼ୟ-ୣ୦-୯ୱஂ-ஃஅ-ஊஎ-ஐஒ-கங-சஜஞ-டண-தந-பம-ஹா-ூெ-ைொ-்ௐௗ௦-௯ఀ-ఌఎ-ఐఒ-నప-హఽ-ౄె-ైొ-్ౕ-ౖౘ-ౚౠ-ౣ౦-౯ಀ-ಃಅ-ಌಎ-ಐಒ-ನಪ-ಳವ-ಹ಼-ೄೆ-ೈೊ-್ೕ-ೖೞೠ-ೣ೦-೯ೱ-ೲഀ-ഃഅ-ഌഎ-ഐഒ-ൄെ-ൈൊ-ൎൔ-ൗൟ-ൣ൦-൯ൺ-ൿං-ඃඅ-ඖක-නඳ-රලව-ෆ්ා-ුූෘ-ෟ෦-෯ෲ-ෳก-ฺเ-๎๐-๙ກ-ຂຄງ-ຈຊຍດ-ທນ-ຟມ-ຣລວສ-ຫອ-ູົ-ຽເ-ໄໆ່-ໍ໐-໙ໜ-ໟༀ༘-༙༠-༩༹༵༷༾-ཇཉ-ཬཱ-྄྆-ྗྙ-ྼ࿆က-၉ၐ-ႝႠ-ჅჇჍა-ჺჼ-ቈቊ-ቍቐ-ቖቘቚ-ቝበ-ኈኊ-ኍነ-ኰኲ-ኵኸ-ኾዀዂ-ዅወ-ዖዘ-ጐጒ-ጕጘ-ፚ፝-፟፩-፱ᎀ-ᎏᎠ-Ᏽᏸ-ᏽᐁ-ᙬᙯ-ᙿᚁ-ᚚᚠ-ᛪᛮ-ᛸᜀ-ᜌᜎ-᜔ᜠ-᜴ᝀ-ᝓᝠ-ᝬᝮ-ᝰᝲ-ᝳក-៓ៗៜ-៝០-៩᠋-᠍᠐-᠙ᠠ-ᡸᢀ-ᢪᢰ-ᣵᤀ-ᤞᤠ-ᤫᤰ-᤻᥆-ᥭᥰ-ᥴᦀ-ᦫᦰ-ᧉ᧐-᧚ᨀ-ᨛᨠ-ᩞ᩠-᩿᩼-᪉᪐-᪙ᪧ᪰-᪽ᬀ-ᭋ᭐-᭙᭫-᭳ᮀ-᯳ᰀ-᰷᱀-᱉ᱍ-ᱽᲀ-ᲈᲐ-ᲺᲽ-Ჿ᳐-᳔᳒-᳹ᴀ-᷹᷻-ἕἘ-Ἕἠ-ὅὈ-Ὅὐ-ὗὙὛὝὟ-ώᾀ-ᾴᾶ-ᾼιῂ-ῄῆ-ῌῐ-ΐῖ-Ίῠ-Ῥῲ-ῴῶ-ῼ‿-⁀⁔ⁱⁿₐ-ₜ⃐-⃥⃜⃡-⃰ℂℇℊ-ℓℕ℘-ℝℤΩℨK-ℹℼ-ℿⅅ-ⅉⅎⅠ-ↈⰀ-Ⱞⰰ-ⱞⱠ-ⳤⳫ-ⳳⴀ-ⴥⴧⴭⴰ-ⵧⵯ⵿-ⶖⶠ-ⶦⶨ-ⶮⶰ-ⶶⶸ-ⶾⷀ-ⷆⷈ-ⷎⷐ-ⷖⷘ-ⷞⷠ-ⷿ々-〇〡-〯〱-〵〸-〼ぁ-ゖ゙-゚ゝ-ゟァ-ヺー-ヿㄅ-ㄯㄱ-ㆎㆠ-ㆺㇰ-ㇿ㐀-䶵一-鿯ꀀ-ꒌꓐ-ꓽꔀ-ꘌꘐ-ꘫꙀ-꙯ꙴ-꙽ꙿ-꛱ꜗ-ꜟꜢ-ꞈꞋ-ꞹꟷ-ꠧꡀ-ꡳꢀ-ꣅ꣐-꣙꣠-ꣷꣻꣽ-꤭ꤰ-꥓ꥠ-ꥼꦀ-꧀ꧏ-꧙ꧠ-ꧾꨀ-ꨶꩀ-ꩍ꩐-꩙ꩠ-ꩶꩺ-ꫂꫛ-ꫝꫠ-ꫯꫲ-꫶ꬁ-ꬆꬉ-ꬎꬑ-ꬖꬠ-ꬦꬨ-ꬮꬰ-ꭚꭜ-ꭥꭰ-ꯪ꯬-꯭꯰-꯹가-힣ힰ-ퟆퟋ-ퟻ豈-舘並-龎ﬀ-ﬆﬓ-ﬗיִ-ﬨשׁ-זּטּ-לּמּנּ-סּףּ-פּצּ-ﮱﯓ-ﱝﱤ-ﴽﵐ-ﶏﶒ-ﷇﷰ-ﷹ︀-️︠-︯︳-︴﹍-﹏ﹱﹳﹷﹹﹻﹽﹿ-ﻼ０-９Ａ-Ｚ＿ａ-ｚｦ-ﾾￂ-ￇￊ-ￏￒ-ￗￚ-ￜ𐀀-𐀋𐀍-𐀦𐀨-𐀺𐀼-𐀽𐀿-𐁍𐁐-𐁝𐂀-𐃺𐅀-𐅴𐇽𐊀-𐊜𐊠-𐋐𐋠𐌀-𐌟𐌭-𐍊𐍐-𐍺𐎀-𐎝𐎠-𐏃𐏈-𐏏𐏑-𐏕𐐀-𐒝𐒠-𐒩𐒰-𐓓𐓘-𐓻𐔀-𐔧𐔰-𐕣𐘀-𐜶𐝀-𐝕𐝠-𐝧𐠀-𐠅𐠈𐠊-𐠵𐠷-𐠸𐠼𐠿-𐡕𐡠-𐡶𐢀-𐢞𐣠-𐣲𐣴-𐣵𐤀-𐤕𐤠-𐤹𐦀-𐦷𐦾-𐦿𐨀-𐨃𐨅-𐨆𐨌-𐨓𐨕-𐨗𐨙-𐨵𐨸-𐨿𐨺𐩠-𐩼𐪀-𐪜𐫀-𐫇𐫉-𐫦𐬀-𐬵𐭀-𐭕𐭠-𐭲𐮀-𐮑𐰀-𐱈𐲀-𐲲𐳀-𐳲𐴀-𐴧𐴰-𐴹𐼀-𐼜𐼧𐼰-𐽐𑀀-𑁆𑁦-𑁯𑁿-𑂺𑃐-𑃨𑃰-𑃹𑄀-𑄴𑄶-𑄿𑅄-𑅆𑅐-𑅳𑅶𑆀-𑇄𑇉-𑇌𑇐-𑇚𑇜𑈀-𑈑𑈓-𑈷𑈾𑊀-𑊆𑊈𑊊-𑊍𑊏-𑊝𑊟-𑊨𑊰-𑋪𑋰-𑋹𑌀-𑌃𑌅-𑌌𑌏-𑌐𑌓-𑌨𑌪-𑌰𑌲-𑌳𑌵-𑌹𑌻-𑍄𑍇-𑍈𑍋-𑍍𑍐𑍗𑍝-𑍣𑍦-𑍬𑍰-𑍴𑐀-𑑊𑑐-𑑙𑑞𑒀-𑓅𑓇𑓐-𑓙𑖀-𑖵𑖸-𑗀𑗘-𑗝𑘀-𑙀𑙄𑙐-𑙙𑚀-𑚷𑛀-𑛉𑜀-𑜚𑜝-𑜫𑜰-𑜹𑠀-𑠺𑢠-𑣩𑣿𑨀-𑨾𑩇𑩐-𑪃𑪆-𑪙𑪝𑫀-𑫸𑰀-𑰈𑰊-𑰶𑰸-𑱀𑱐-𑱙𑱲-𑲏𑲒-𑲧𑲩-𑲶𑴀-𑴆𑴈-𑴉𑴋-𑴶𑴺𑴼-𑴽𑴿-𑵇𑵐-𑵙𑵠-𑵥𑵧-𑵨𑵪-𑶎𑶐-𑶑𑶓-𑶘𑶠-𑶩𑻠-𑻶𒀀-𒎙𒐀-𒑮𒒀-𒕃𓀀-𓐮𔐀-𔙆𖠀-𖨸𖩀-𖩞𖩠-𖩩𖫐-𖫭𖫰-𖫴𖬀-𖬶𖭀-𖭃𖭐-𖭙𖭣-𖭷𖭽-𖮏𖹀-𖹿𖼀-𖽄𖽐-𖽾𖾏-𖾟𖿠-𖿡𗀀-𘟱𘠀-𘫲𛀀-𛄞𛅰-𛋻𛰀-𛱪𛱰-𛱼𛲀-𛲈𛲐-𛲙𛲝-𛲞𝅥-𝅩𝅭-𝅲𝅻-𝆂𝆅-𝆋𝆪-𝆭𝉂-𝉄𝐀-𝑔𝑖-𝒜𝒞-𝒟𝒢𝒥-𝒦𝒩-𝒬𝒮-𝒹𝒻𝒽-𝓃𝓅-𝔅𝔇-𝔊𝔍-𝔔𝔖-𝔜𝔞-𝔹𝔻-𝔾𝕀-𝕄𝕆𝕊-𝕐𝕒-𝚥𝚨-𝛀𝛂-𝛚𝛜-𝛺𝛼-𝜔𝜖-𝜴𝜶-𝝎𝝐-𝝮𝝰-𝞈𝞊-𝞨𝞪-𝟂𝟄-𝟋𝟎-𝟿𝨀-𝨶𝨻-𝩬𝩵𝪄𝪛-𝪟𝪡-𝪯𞀀-𞀆𞀈-𞀘𞀛-𞀡𞀣-𞀤𞀦-𞀪𞠀-𞣄𞣐-𞣖𞤀-𞥊𞥐-𞥙𞸀-𞸃𞸅-𞸟𞸡-𞸢𞸤𞸧𞸩-𞸲𞸴-𞸷𞸹𞸻𞹂𞹇𞹉𞹋𞹍-𞹏𞹑-𞹒𞹔𞹗𞹙𞹛𞹝𞹟𞹡-𞹢𞹤𞹧-𞹪𞹬-𞹲𞹴-𞹷𞹹-𞹼𞹾𞺀-𞺉𞺋-𞺛𞺡-𞺣𞺥-𞺩𞺫-𞺻𠀀-𪛖𪜀-𫜴𫝀-𫠝𫠠-𬺡𬺰-𮯠丽-𪘀󠄀-󠇯]*', 8): re.compile('@[A-Z_a-zªµºÀ-ÖØ-öø-ˁˆ-ˑˠ-ˤˬˮͰ-ʹͶ-ͷͻ-ͽͿΆΈ-ΊΌΎ-ΡΣ-ϵϷ-ҁҊ-ԯԱ-Ֆՙՠ-ֈא-תׯ-ײؠ-يٮ-ٯٱ-ۓەۥ-ۦۮ-ۯۺ-ۼۿܐܒ-ܯݍ-ޥޱߊ-ߪߴ-ߵߺࠀ-ࠕࠚࠤࠨࡀ-ࡘࡠ-ࡪࢠ-ࢴࢶ-ࢽऄ-हऽॐक़-ॡॱ-ঀঅ-ঌএ-ঐও-নপ-রলশ-হঽৎড়-ঢ়য়-ৡৰ-ৱৼਅ-ਊਏ-ਐਓ-ਨਪ-ਰਲ-ਲ਼ਵ-ਸ਼ਸ-ਹਖ਼-ੜਫ਼ੲ-ੴઅ-ઍએ-ઑઓ-નપ, re.MULTILINE), (<class 'str'>, '@', 8): re.compile('@', re.MULTILINE), (<class 'str'>, '[A-Z_a-zªµºÀ-ÖØ-öø-ˁˆ-ˑˠ-ˤˬˮͰ-ʹͶ-ͷͻ-ͽͿΆΈ-ΊΌΎ-ΡΣ-ϵϷ-ҁҊ-ԯԱ-Ֆՙՠ-ֈא-תׯ-ײؠ-يٮ-ٯٱ-ۓەۥ-ۦۮ-ۯۺ-ۼۿܐܒ-ܯݍ-ޥޱߊ-ߪߴ-ߵߺࠀ-ࠕࠚࠤࠨࡀ-ࡘࡠ-ࡪࢠ-ࢴࢶ-ࢽऄ-हऽॐक़-ॡॱ-ঀঅ-ঌএ-ঐও-নপ-রলশ-হঽৎড়-ঢ়য়-ৡৰ-ৱৼਅ-ਊਏ-ਐਓ-ਨਪ-ਰਲ-ਲ਼ਵ-ਸ਼ਸ-ਹਖ਼-ੜਫ਼ੲ-ੴઅ-ઍએ-ઑઓ-નપ-રલ-ળવ-હઽૐૠ-ૡૹଅ-ଌଏ-ଐଓ-ନପ-ରଲ-ଳଵ-ହଽଡ଼-ଢ଼ୟ-ୡୱஃஅ-ஊஎ-ஐஒ-கங-சஜஞ-டண-தந-பம-ஹௐఅ-ఌఎ-ఐఒ-నప-హఽౘ-ౚౠ-ౡಀಅ-ಌಎ-ಐಒ-ನಪ-ಳವ-ಹಽೞೠ-ೡೱ-ೲഅ-ഌഎ-ഐഒ-ഺഽൎൔ-ൖൟ-ൡൺ-ൿඅ-ඖක-නඳ-රලව-ෆก-ะาเ-ๆກ-ຂຄງ-ຈຊຍດ-ທນ-ຟມ-ຣລວສ-ຫອ-ະາຽເ-ໄໆໜ-ໟༀཀ-ཇཉ-ཬྈ-ྌက-ဪဿၐ-ၕၚ-ၝၡၥ-ၦၮ-ၰၵ-ႁႎႠ-ჅჇჍა-ჺჼ-ቈቊ-ቍቐ-ቖቘቚ-ቝበ-ኈኊ-ኍነ-ኰኲ-ኵኸ-ኾዀዂ-ዅወ-ዖዘ-ጐጒ-ጕጘ-ፚᎀ-ᎏᎠ-Ᏽᏸ-ᏽᐁ-ᙬᙯ-ᙿᚁ-ᚚᚠ-ᛪᛮ-ᛸᜀ-ᜌᜎ-ᜑᜠ-ᜱᝀ-ᝑᝠ-ᝬᝮ-ᝰក-ឳៗៜᠠ-ᡸᢀ-ᢨᢪᢰ-ᣵᤀ-ᤞᥐ-ᥭᥰ-ᥴᦀ-ᦫᦰ-ᧉᨀ-ᨖᨠ-ᩔᪧᬅ-ᬳᭅ-ᭋᮃ-ᮠᮮ-ᮯᮺ-ᯥᰀ-ᰣᱍ-ᱏᱚ-ᱽᲀ-ᲈᲐ-ᲺᲽ-Ჿᳩ-ᳬᳮ-ᳱᳵ-ᳶᴀ-ᶿḀ-ἕἘ-Ἕἠ-ὅὈ-Ὅὐ-ὗὙὛὝὟ-ώᾀ-ᾴᾶ-ᾼιῂ-ῄῆ-ῌῐ-ΐῖ-Ίῠ-Ῥῲ-ῴῶ-ῼⁱⁿₐ-ₜℂℇℊ-ℓℕ℘-ℝℤΩℨK-ℹℼ-ℿⅅ-ⅉⅎⅠ-ↈⰀ-Ⱞⰰ-ⱞⱠ-ⳤⳫ-ⳮⳲ-ⳳⴀ-ⴥⴧⴭⴰ-ⵧⵯⶀ-ⶖⶠ-ⶦⶨ-ⶮⶰ-ⶶⶸ-ⶾⷀ-ⷆⷈ-ⷎⷐ-ⷖⷘ-ⷞ々-〇〡-〩〱-〵〸-〼ぁ-ゖゝ-ゟァ-ヺー-ヿㄅ-ㄯㄱ-ㆎㆠ-ㆺㇰ-ㇿ㐀-䶵一-鿯ꀀ-ꒌꓐ-ꓽꔀ-ꘌꘐ-ꘟꘪ-ꘫꙀ-ꙮꙿ-ꚝꚠ-ꛯꜗ-ꜟꜢ-ꞈꞋ-ꞹꟷ-ꠁꠃ-ꠅꠇ-ꠊꠌ-ꠢꡀ-ꡳꢂ-ꢳꣲ-ꣷꣻꣽ-ꣾꤊ-ꤥꤰ-ꥆꥠ-ꥼꦄ-ꦲꧏꧠ-ꧤꧦ-ꧯꧺ-ꧾꨀ-ꨨꩀ-ꩂꩄ-ꩋꩠ-ꩶꩺꩾ-ꪯꪱꪵ-ꪶꪹ-ꪽꫀꫂꫛ-ꫝꫠ-ꫪꫲ-ꫴꬁ-ꬆꬉ-ꬎꬑ-ꬖꬠ-ꬦꬨ-ꬮꬰ-ꭚꭜ-ꭥꭰ-ꯢ가-힣ힰ-ퟆퟋ-ퟻ豈-舘並-龎ﬀ-ﬆﬓ-ﬗיִײַ-ﬨשׁ-זּטּ-לּמּנּ-סּףּ-פּצּ-ﮱﯓ-ﱝﱤ-ﴽﵐ-ﶏﶒ-ﷇﷰ-ﷹﹱﹳﹷﹹﹻﹽﹿ-ﻼＡ-Ｚａ-ｚｦ-ﾝﾠ-ﾾￂ-ￇￊ-ￏￒ-ￗￚ-ￜ𐀀-𐀋𐀍-𐀦𐀨-𐀺𐀼-𐀽𐀿-𐁍𐁐-𐁝𐂀-𐃺𐅀-𐅴𐊀-𐊜𐊠-𐋐𐌀-𐌟𐌭-𐍊𐍐-𐍵𐎀-𐎝𐎠-𐏃𐏈-𐏏𐏑-𐏕𐐀-𐒝𐒰-𐓓𐓘-𐓻𐔀-𐔧𐔰-𐕣𐘀-𐜶𐝀-𐝕𐝠-𐝧𐠀-𐠅𐠈𐠊-𐠵𐠷-𐠸𐠼𐠿-𐡕𐡠-𐡶𐢀-𐢞𐣠-𐣲𐣴-𐣵𐤀-𐤕𐤠-𐤹𐦀-𐦷𐦾-𐦿𐨀𐨐-𐨓𐨕-𐨗𐨙-𐨵𐩠-𐩼𐪀-𐪜𐫀-𐫇𐫉-𐫤𐬀-𐬵𐭀-𐭕𐭠-𐭲𐮀-𐮑𐰀-𐱈𐲀-𐲲𐳀-𐳲𐴀-𐴣𐼀-𐼜𐼧𐼰-𐽅𑀃-𑀷𑂃-𑂯𑃐-𑃨𑄃-𑄦𑅄𑅐-𑅲𑅶𑆃-𑆲𑇁-𑇄𑇚𑇜𑈀-𑈑𑈓-𑈫𑊀-𑊆𑊈𑊊-𑊍𑊏-𑊝𑊟-𑊨𑊰-𑋞𑌅-𑌌𑌏-𑌐𑌓-𑌨𑌪-𑌰𑌲-𑌳𑌵-𑌹𑌽𑍐𑍝-𑍡𑐀-𑐴𑑇-𑑊𑒀-𑒯𑓄-𑓅𑓇𑖀-𑖮𑗘-𑗛𑘀-𑘯𑙄𑚀-𑚪𑜀-𑜚𑠀-𑠫𑢠-𑣟𑣿𑨀𑨋-𑨲𑨺𑩐𑩜-𑪃𑪆-𑪉𑪝𑫀-𑫸𑰀-𑰈𑰊-𑰮𑱀𑱲-𑲏𑴀-𑴆𑴈-𑴉𑴋-𑴰𑵆𑵠-𑵥𑵧-𑵨𑵪-𑶉𑶘𑻠-𑻲𒀀-𒎙𒐀-𒑮𒒀-𒕃𓀀-𓐮𔐀-𔙆𖠀-𖨸𖩀-𖩞𖫐-𖫭𖬀-𖬯𖭀-𖭃𖭣-𖭷𖭽-𖮏𖹀-𖹿𖼀-𖽄𖽐𖾓-𖾟𖿠-𖿡𗀀-𘟱𘠀-𘫲𛀀-𛄞𛅰-𛋻𛰀-𛱪𛱰-𛱼𛲀-𛲈𛲐-𛲙𝐀-𝑔𝑖-𝒜𝒞-𝒟𝒢𝒥-𝒦𝒩-𝒬𝒮-𝒹𝒻𝒽-𝓃𝓅-𝔅𝔇-𝔊𝔍-𝔔𝔖-𝔜𝔞-𝔹𝔻-𝔾𝕀-𝕄𝕆𝕊-𝕐𝕒-𝚥𝚨-𝛀𝛂-𝛚𝛜-𝛺𝛼-𝜔𝜖-𝜴𝜶-𝝎𝝐-𝝮𝝰-𝞈𝞊-𝞨𝞪-𝟂𝟄-𝟋𞠀-𞣄𞤀-𞥃𞸀-𞸃𞸅-𞸟𞸡-𞸢𞸤𞸧𞸩-𞸲𞸴-𞸷𞸹𞸻𞹂𞹇𞹉𞹋𞹍-𞹏𞹑-𞹒𞹔𞹗𞹙𞹛𞹝𞹟𞹡-𞹢𞹤𞹧-𞹪𞹬-𞹲𞹴-𞹷𞹹-𞹼𞹾𞺀-𞺉𞺋-𞺛𞺡-𞺣𞺥-𞺩𞺫-𞺻𠀀-𪛖𪜀-𫜴𫝀-𫠝𫠠-𬺡𬺰-𮯠丽-𪘀][0-9A-Z_a-zªµ·ºÀ-ÖØ-öø-ˁˆ-ˑˠ-ˤˬˮ̀-ʹͶ-ͷͻ-ͽͿΆ-ΊΌΎ-ΡΣ-ϵϷ-ҁ҃-҇Ҋ-ԯԱ-Ֆՙՠ-ֈ֑-ֽֿׁ-ׂׄ-ׇׅא-תׯ-ײؐ-ؚؠ-٩ٮ-ۓە-ۜ۟-۪ۨ-ۼۿܐ-݊ݍ-ޱ߀-ߵߺ߽ࠀ-࠭ࡀ-࡛ࡠ-ࡪࢠ-ࢴࢶ-ࢽ࣓-ࣣ࣡-ॣ०-९ॱ-ঃঅ-ঌএ-ঐও-নপ-রলশ-হ়-ৄে-ৈো-ৎৗড়-ঢ়য়-ৣ০-ৱৼ৾ਁ-ਃਅ-ਊਏ-ਐਓ-ਨਪ-ਰਲ-ਲ਼ਵ-ਸ਼ਸ-ਹ਼ਾ-ੂੇ-ੈੋ-੍ੑਖ਼-ੜਫ਼੦-ੵઁ-ઃઅ-ઍએ-ઑઓ-નપ-રલ-ળવ-હ઼-ૅે-ૉો-્ૐૠ-ૣ૦-૯ૹ-૿ଁ-ଃଅ-ଌଏ-ଐଓ-ନପ-ରଲ-ଳଵ-ହ଼-ୄେ-ୈୋ-୍ୖ-ୗଡ଼-ଢ଼ୟ-ୣ୦-୯ୱஂ-ஃஅ-ஊஎ-ஐஒ-கங-சஜஞ-டண-தந-பம-ஹா-ூெ-ைொ-்ௐௗ௦-௯ఀ-ఌఎ-ఐఒ-నప-హఽ-ౄె-ైొ-్ౕ-ౖౘ-ౚౠ-ౣ౦-౯ಀ-ಃಅ-ಌಎ-ಐಒ-ನಪ-ಳವ-ಹ಼-ೄೆ-ೈೊ-್ೕ-ೖೞೠ-ೣ೦-೯ೱ-ೲഀ-ഃഅ-ഌഎ-ഐഒ-ൄെ-ൈൊ-ൎൔ-ൗൟ-ൣ൦-൯ൺ-ൿං-ඃඅ-ඖක-නඳ-රලව-ෆ්ා-ුූෘ-ෟ෦-෯ෲ-ෳก-ฺเ-๎๐-๙ກ-ຂຄງ-ຈຊຍດ-ທນ-ຟມ-ຣລວສ-ຫອ-ູົ-ຽເ-ໄໆ່-ໍ໐-໙ໜ-ໟༀ༘-༙༠-༩༹༵༷༾-ཇཉ-ཬཱ-྄྆-ྗྙ-ྼ࿆က-၉ၐ-ႝႠ-ჅჇჍა-ჺჼ-ቈቊ-ቍቐ-ቖቘቚ-ቝበ-ኈኊ-ኍነ-ኰኲ-ኵኸ-ኾዀዂ-ዅወ-ዖዘ-ጐጒ-ጕጘ-ፚ፝-፟፩-፱ᎀ-ᎏᎠ-Ᏽᏸ-ᏽᐁ-ᙬᙯ-ᙿᚁ-ᚚᚠ-ᛪᛮ-ᛸᜀ-ᜌᜎ-᜔ᜠ-᜴ᝀ-ᝓᝠ-ᝬᝮ-ᝰᝲ-ᝳក-៓ៗៜ-៝០-៩᠋-᠍᠐-᠙ᠠ-ᡸᢀ-ᢪᢰ-ᣵᤀ-ᤞᤠ-ᤫᤰ-᤻᥆-ᥭᥰ-ᥴᦀ-ᦫᦰ-ᧉ᧐-᧚ᨀ-ᨛᨠ-ᩞ᩠-᩿᩼-᪉᪐-᪙ᪧ᪰-᪽ᬀ-ᭋ᭐-᭙᭫-᭳ᮀ-᯳ᰀ-᰷᱀-᱉ᱍ-ᱽᲀ-ᲈᲐ-ᲺᲽ-Ჿ᳐-᳔᳒-᳹ᴀ-᷹᷻-ἕἘ-Ἕἠ-ὅὈ-Ὅὐ-ὗὙὛὝὟ-ώᾀ-ᾴᾶ-ᾼιῂ-ῄῆ-ῌῐ-ΐῖ-Ίῠ-Ῥῲ-ῴῶ-ῼ‿-⁀⁔ⁱⁿₐ-ₜ⃐-⃥⃜⃡-⃰ℂℇℊ-ℓℕ℘-ℝℤΩℨK-ℹℼ-ℿⅅ-ⅉⅎⅠ-ↈⰀ-Ⱞⰰ-ⱞⱠ-ⳤⳫ-ⳳⴀ-ⴥⴧⴭⴰ-ⵧⵯ⵿-ⶖⶠ-ⶦⶨ-ⶮⶰ-ⶶⶸ-ⶾⷀ-ⷆⷈ-ⷎⷐ-ⷖⷘ-ⷞⷠ-ⷿ々-〇〡-〯〱-〵〸-〼ぁ-ゖ゙-゚ゝ-ゟァ-ヺー-ヿㄅ-ㄯㄱ-ㆎㆠ-ㆺㇰ-ㇿ㐀-䶵一-鿯ꀀ-ꒌꓐ-ꓽꔀ-ꘌꘐ-ꘫꙀ-꙯ꙴ-꙽ꙿ-꛱ꜗ-ꜟꜢ-ꞈꞋ-ꞹꟷ-ꠧꡀ-ꡳꢀ-ꣅ꣐-꣙꣠-ꣷꣻꣽ-꤭ꤰ-꥓ꥠ-ꥼꦀ-꧀ꧏ-꧙ꧠ-ꧾꨀ-ꨶꩀ-ꩍ꩐-꩙ꩠ-ꩶꩺ-ꫂꫛ-ꫝꫠ-ꫯꫲ-꫶ꬁ-ꬆꬉ-ꬎꬑ-ꬖꬠ-ꬦꬨ-ꬮꬰ-ꭚꭜ-ꭥꭰ-ꯪ꯬-꯭꯰-꯹가-힣ힰ-ퟆퟋ-ퟻ豈-舘並-龎ﬀ-ﬆﬓ-ﬗיִ-ﬨשׁ-זּטּ-לּמּנּ-סּףּ-פּצּ-ﮱﯓ-ﱝﱤ-ﴽﵐ-ﶏﶒ-ﷇﷰ-ﷹ︀-️︠-︯︳-︴﹍-﹏ﹱﹳﹷﹹﹻﹽﹿ-ﻼ０-９Ａ-Ｚ＿ａ-ｚｦ-ﾾￂ-ￇￊ-ￏￒ-ￗￚ-ￜ𐀀-𐀋𐀍-𐀦𐀨-𐀺𐀼-𐀽𐀿-𐁍𐁐-𐁝𐂀-𐃺𐅀-𐅴𐇽𐊀-𐊜𐊠-𐋐𐋠𐌀-𐌟𐌭-𐍊𐍐-𐍺𐎀-𐎝𐎠-𐏃𐏈-𐏏𐏑-𐏕𐐀-𐒝𐒠-𐒩𐒰-𐓓𐓘-𐓻𐔀-𐔧𐔰-𐕣𐘀-𐜶𐝀-𐝕𐝠-𐝧𐠀-𐠅𐠈𐠊-𐠵𐠷-𐠸𐠼𐠿-𐡕𐡠-𐡶𐢀-𐢞𐣠-𐣲𐣴-𐣵𐤀-𐤕𐤠-𐤹𐦀-𐦷𐦾-𐦿𐨀-𐨃𐨅-𐨆𐨌-𐨓𐨕-𐨗𐨙-𐨵𐨸-𐨿𐨺𐩠-𐩼𐪀-𐪜𐫀-𐫇𐫉-𐫦𐬀-𐬵𐭀-𐭕𐭠-𐭲𐮀-𐮑𐰀-𐱈𐲀-𐲲𐳀-𐳲𐴀-𐴧𐴰-𐴹𐼀-𐼜𐼧𐼰-𐽐𑀀-𑁆𑁦-𑁯𑁿-𑂺𑃐-𑃨𑃰-𑃹𑄀-𑄴𑄶-𑄿𑅄-𑅆𑅐-𑅳𑅶𑆀-𑇄𑇉-𑇌𑇐-𑇚𑇜𑈀-𑈑𑈓-𑈷𑈾𑊀-𑊆𑊈𑊊-𑊍𑊏-𑊝𑊟-𑊨𑊰-𑋪𑋰-𑋹𑌀-𑌃𑌅-𑌌𑌏-𑌐𑌓-𑌨𑌪-𑌰𑌲-𑌳𑌵-𑌹𑌻-𑍄𑍇-𑍈𑍋-𑍍𑍐𑍗𑍝-𑍣𑍦-𑍬𑍰-𑍴𑐀-𑑊𑑐-𑑙𑑞𑒀-𑓅𑓇𑓐-𑓙𑖀-𑖵𑖸-𑗀𑗘-𑗝𑘀-𑙀𑙄𑙐-𑙙𑚀-𑚷𑛀-𑛉𑜀-𑜚𑜝-𑜫𑜰-𑜹𑠀-𑠺𑢠-𑣩𑣿𑨀-𑨾𑩇𑩐-𑪃𑪆-𑪙𑪝𑫀-𑫸𑰀-𑰈𑰊-𑰶𑰸-𑱀𑱐-𑱙𑱲-𑲏𑲒-𑲧𑲩-𑲶𑴀-𑴆𑴈-𑴉𑴋-𑴶𑴺𑴼-𑴽𑴿-𑵇𑵐-𑵙𑵠-𑵥𑵧-𑵨𑵪-𑶎𑶐-𑶑𑶓-𑶘𑶠-𑶩𑻠-𑻶𒀀-𒎙𒐀-𒑮𒒀-𒕃𓀀-𓐮𔐀-𔙆𖠀-𖨸𖩀-𖩞𖩠-𖩩𖫐-𖫭𖫰-𖫴𖬀-𖬶𖭀-𖭃𖭐-𖭙𖭣-𖭷𖭽-𖮏𖹀-𖹿𖼀-𖽄𖽐-𖽾𖾏-𖾟𖿠-𖿡𗀀-𘟱𘠀-𘫲𛀀-𛄞𛅰-𛋻𛰀-𛱪𛱰-𛱼𛲀-𛲈𛲐-𛲙𛲝-𛲞𝅥-𝅩𝅭-𝅲𝅻-𝆂𝆅-𝆋𝆪-𝆭𝉂-𝉄𝐀-𝑔𝑖-𝒜𝒞-𝒟𝒢𝒥-𝒦𝒩-𝒬𝒮-𝒹𝒻𝒽-𝓃𝓅-𝔅𝔇-𝔊𝔍-𝔔𝔖-𝔜𝔞-𝔹𝔻-𝔾𝕀-𝕄𝕆𝕊-𝕐𝕒-𝚥𝚨-𝛀𝛂-𝛚𝛜-𝛺𝛼-𝜔𝜖-𝜴𝜶-𝝎𝝐-𝝮𝝰-𝞈𝞊-𝞨𝞪-𝟂𝟄-𝟋𝟎-𝟿𝨀-𝨶𝨻-𝩬𝩵𝪄𝪛-𝪟𝪡-𝪯𞀀-𞀆𞀈-𞀘𞀛-𞀡𞀣-𞀤𞀦-𞀪𞠀-𞣄𞣐-𞣖𞤀-𞥊𞥐-𞥙𞸀-𞸃𞸅-𞸟𞸡-𞸢𞸤𞸧𞸩-𞸲𞸴-𞸷𞸹𞸻𞹂𞹇𞹉𞹋𞹍-𞹏𞹑-𞹒𞹔𞹗𞹙𞹛𞹝𞹟𞹡-𞹢𞹤𞹧-𞹪𞹬-𞹲𞹴-𞹷𞹹-𞹼𞹾𞺀-𞺉𞺋-𞺛𞺡-𞺣𞺥-𞺩𞺫-𞺻𠀀-𪛖𪜀-𫜴𫝀-𫠝𫠠-𬺡𬺰-𮯠丽-𪘀󠄀-󠇯]*', 8): re.compile('[A-Z_a-zªµºÀ-ÖØ-öø-ˁˆ-ˑˠ-ˤˬˮͰ-ʹͶ-ͷͻ-ͽͿΆΈ-ΊΌΎ-ΡΣ-ϵϷ-ҁҊ-ԯԱ-Ֆՙՠ-ֈא-תׯ-ײؠ-يٮ-ٯٱ-ۓەۥ-ۦۮ-ۯۺ-ۼۿܐܒ-ܯݍ-ޥޱߊ-ߪߴ-ߵߺࠀ-ࠕࠚࠤࠨࡀ-ࡘࡠ-ࡪࢠ-ࢴࢶ-ࢽऄ-हऽॐक़-ॡॱ-ঀঅ-ঌএ-ঐও-নপ-রলশ-হঽৎড়-ঢ়য়-ৡৰ-ৱৼਅ-ਊਏ-ਐਓ-ਨਪ-ਰਲ-ਲ਼ਵ-ਸ਼ਸ-ਹਖ਼-ੜਫ਼ੲ-ੴઅ-ઍએ-ઑઓ-નપ-, re.MULTILINE), (<class 'str'>, '[{([]', 8): re.compile('[{([]', re.MULTILINE), (<class 'str'>, '(=\\\\s*)?(\\\\![sraf])?\\\\}', 8): re.compile('(=\\\\s*)?(\\\\![sraf])?\\\\}', re.MULTILINE), (<class 'str'>, '(=\\\\s*)?(\\\\![sraf])?:', 8): re.compile('(=\\\\s*)?(\\\\![sraf])?:', re.MULTILINE), (<class 'str'>, '\\\\s+', 8): re.compile('\\\\s+', re.MULTILINE), (<class 'str'>, '[])}]', 8): re.compile('[])}]', re.MULTILINE), (<class 'str'>, '(\\\\s+)([^\\\\n_]*)(_\\\\b)', 8): re.compile('(\\\\s+)([^\\\\n_]*)(_\\\\b)', re.MULTILINE), (<class 'str'>, '(\\\\s+)(as)(\\\\s+)', 8): re.compile('(\\\\s+)(as)(\\\\s+)', re.MULTILINE), (<class 'str'>, '\\\\.', 8): re.compile('\\\\.', re.MULTILINE), (<class 'str'>, '(\\\\s*)(,)(\\\\s*)', 8): re.compile('(\\\\s*)(,)(\\\\s*)', re.MULTILINE), (<class 'str'>, '(\\\\s+)(import)\\\\b', 8): re.compile('(\\\\s+)(import)\\\\b', re.MULTILINE), (<class 'str'>, 'None\\\\b', 8): re.compile('None\\\\b', re.MULTILINE), (<class 'str'>, '\\\\d+', 0): re.compile('\\\\d+'), (<class 'str'>, '\\\\w+@\\\\w+\\\\.\\\\w+', 0): re.compile('\\\\w+@\\\\w+\\\\.\\\\w+'), (<class 'str'>, '\\\\d{13}', 0): re.compile('\\\\d{13}'), (<class 'str'>, '(?s:text2.*)\\\\Z', 0): re.compile('(?s:text2.*)\\\\Z'), (<class 'str'>, '\\n                \\'.*?(?<!\\\\\\\\)\\' |    # single quoted strings or\\n                \".*?(?<!\\\\\\\\)\" |    # double quoted strings or\\n                \\\\w+          |    # identifier\\n                \\\\S                # other characters\\n                ', 80): re.compile('\\n                \\'.*?(?<!\\\\\\\\)\\' |    # single quoted strings or\\n                \".*?(?<!\\\\\\\\)\" |    # double quoted strings or\\n                \\\\w+          |    # identifier\\n                \\\\, re.DOTALL|re.VERBOSE), (<class 'str'>, '\\\\w+$', 0): re.compile('\\\\w+$'), (<class 'str'>, 'Python', 0): re.compile('Python'), (<class 'str'>, 'Second', 8): re.compile('Second', re.MULTILINE), (<class 'str'>, '(?s:.*)\\\\Z', 0): re.compile('(?s:.*)\\\\Z'), (<class 'str'>, '\\\\d{10}', 0): re.compile('\\\\d{10}'), (<class 'str'>, '\\\\W+', 0): re.compile('\\\\W+'), (<class 'str'>, '(\\\\W+)', 0): re.compile('(\\\\W+)'), (<class 'str'>, '[a-f]+', 2): re.compile('[a-f]+', re.IGNORECASE), (<class 'str'>, 'x*', 0): re.compile('x*'), (<class 'str'>, '^$', 8): re.compile('^$', re.MULTILINE), (<class 'str'>, '\\\\bf[a-z]*', 0): re.compile('\\\\bf[a-z]*'), (<class 'str'>, '(\\\\w+)=(\\\\d+)', 0): re.compile('(\\\\w+)=(\\\\d+)'), (<class 'str'>, '(?:\\\\w+)=(\\\\d+)', 0): re.compile('(?:\\\\w+)=(\\\\d+)'), (<class 'str'>, 'myfunc', 0): re.compile('myfunc'), (<class 'str'>, 'def\\\\s+([a-zA-Z_][a-zA-Z_0-9]*)\\\\s*\\\\(\\\\s*\\\\):', 0): re.compile('def\\\\s+([a-zA-Z_][a-zA-Z_0-9]*)\\\\s*\\\\(\\\\s*\\\\):'), (<class 'str'>, '(?m)^            ', 0): re.compile('(?m)^            ', re.MULTILINE), (<class 'str'>, '-{1,2}', 0): re.compile('-{1,2}'), (<class 'str'>, '\\\\sAND\\\\s', 2): re.compile('\\\\sAND\\\\s', re.IGNORECASE)}\n",
      "{}\n"
     ]
    }
   ],
   "source": [
    "import re\n",
    "\n",
    "# Biên dịch một biểu thức chính quy\n",
    "pattern = re.compile(r'\\d+')\n",
    "\n",
    "# Kiểm tra bộ nhớ cache trước khi gọi purge\n",
    "print(re._cache)  # Sẽ in ra bộ nhớ cache của các biểu thức chính quy\n",
    "\n",
    "# Xóa bộ nhớ cache\n",
    "re.purge()\n",
    "\n",
    "# Kiểm tra bộ nhớ cache sau khi gọi purge\n",
    "print(re._cache)  # Sẽ không còn bộ nhớ cache sau khi purge\n"
   ]
  },
  {
   "cell_type": "markdown",
   "id": "0611db0d",
   "metadata": {},
   "source": [
    "### **3. FLAGS**\n",
    "\n",
    "Các flag trong biểu thức chính quy (regex) của Python giúp **tùy chỉnh hành vi tìm kiếm** của các biểu thức chính quy. Bạn có thể sử dụng các flag này khi biên dịch một biểu thức chính quy hoặc khi gọi các phương thức như `re.match()`, `re.search()`, `re.findall()`, và `re.sub()`.\n",
    "\n",
    "##### ***Chi tiết***\n",
    "Các flag giúp thay đổi cách thức biểu thức chính quy hoạt động, bao gồm các tùy chỉnh như tìm kiếm không phân biệt chữ hoa chữ thường, phù hợp với nhiều dòng, khớp với ký tự đặc biệt trong chuỗi, v.v. Bạn có thể kết hợp các flag với nhau thông qua toán tử bitwise OR (`|`).\n",
    "\n",
    "#### **3.1. `re.IGNORECASE` hoặc `re.I`**  \n",
    "   Flag này giúp **tìm kiếm không phân biệt chữ hoa chữ thường** trong chuỗi.\n"
   ]
  },
  {
   "cell_type": "code",
   "execution_count": null,
   "id": "df196c2f",
   "metadata": {},
   "outputs": [],
   "source": [
    "import re\n",
    "\n",
    "pattern = r'hello'\n",
    "text = 'HELLO World'\n",
    "\n",
    "# Không phân biệt chữ hoa chữ thường\n",
    "match = re.search(pattern, text, re.IGNORECASE)\n",
    "print(match.group())  # Kết quả: 'HELLO'"
   ]
  },
  {
   "cell_type": "markdown",
   "id": "32b6b7e7",
   "metadata": {},
   "source": [
    "#### **3.2. `re.MULTILINE` hoặc `re.M`**  \n",
    "   Flag này thay đổi cách thức tìm kiếm, cho phép khớp với ký tự bắt đầu (`^`) và kết thúc (`$`) ở mỗi dòng trong một chuỗi nhiều dòng."
   ]
  },
  {
   "cell_type": "code",
   "execution_count": 42,
   "id": "6e01d5cc",
   "metadata": {},
   "outputs": [
    {
     "name": "stdout",
     "output_type": "stream",
     "text": [
      "['Hello', 'Hello']\n"
     ]
    }
   ],
   "source": [
    "import re\n",
    "\n",
    "text = '''Hello World\n",
    "This is Python\n",
    "Hello again'''\n",
    "\n",
    "pattern = r'^Hello'\n",
    "# Tìm kiếm 'Hello' ở đầu mỗi dòng\n",
    "matches = re.findall(pattern, text, re.MULTILINE)\n",
    "print(matches)  # Kết quả: ['Hello', 'Hello']"
   ]
  },
  {
   "cell_type": "markdown",
   "id": "9e617ed7",
   "metadata": {},
   "source": [
    "#### **3.3. `re.DOTALL` hoặc `re.S`**  \n",
    "   Mặc định, dấu chấm (`.`) không khớp với ký tự xuống dòng (`\\\\n`). Flag này cho phép **dấu chấm khớp với mọi ký tự, bao gồm cả xuống dòng.**"
   ]
  },
  {
   "cell_type": "code",
   "execution_count": null,
   "id": "fdd534a5",
   "metadata": {},
   "outputs": [],
   "source": [
    "import re\n",
    "\n",
    "text = '''Hello\n",
    "World'''\n",
    "\n",
    "pattern = r'Hello.*World'\n",
    "\n",
    "# Không sử dụng re.DOTALL, không khớp vì \\\\n không được .* khớp\n",
    "match = re.search(pattern, text)\n",
    "print(match)  # Kết quả: None\n",
    "\n",
    "# Sử dụng re.DOTALL để khớp dấu xuống dòng\n",
    "match = re.search(pattern, text, re.DOTALL)\n",
    "print(match.group())  # Kết quả: 'Hello\\\\nWorld'"
   ]
  },
  {
   "cell_type": "markdown",
   "id": "5f1cf092",
   "metadata": {},
   "source": [
    "#### **3.4. `re.VERBOSE` hoặc `re.X`**  \n",
    "   Cho phép **viết biểu thức chính quy có định dạng dễ đọc hơn**, với khoảng trắng và chú thích (bắt đầu bằng `#`)"
   ]
  },
  {
   "cell_type": "code",
   "execution_count": null,
   "id": "6442fb0b",
   "metadata": {},
   "outputs": [],
   "source": [
    "import re\n",
    "\n",
    "pattern = r\"\"\"\n",
    "\\\\b          # Bắt đầu một từ\n",
    "[a-zA-Z]+   # Một hoặc nhiều chữ cái\n",
    "\\\\b          # Kết thúc một từ\n",
    "\"\"\"\n",
    "\n",
    "text = 'This is Python'\n",
    "match = re.search(pattern, text, re.VERBOSE)\n",
    "print(match.group())  # Kết quả: 'This'"
   ]
  },
  {
   "cell_type": "markdown",
   "id": "ef5aa274",
   "metadata": {},
   "source": [
    "#### **3.5. `re.ASCII` hoặc `re.A`**  \n",
    "   Giới hạn các biểu thức chính quy **chỉ khớp với ký tự ASCII**, thay vì mở rộng ra các ký tự Unicode."
   ]
  },
  {
   "cell_type": "code",
   "execution_count": 43,
   "id": "5a70fdf7",
   "metadata": {},
   "outputs": [
    {
     "name": "stdout",
     "output_type": "stream",
     "text": [
      "[]\n"
     ]
    }
   ],
   "source": [
    "import re\n",
    "\n",
    "pattern = r'\\\\w'  # Khớp với chữ cái, chữ số và dấu gạch dưới\n",
    "text = 'abcé'\n",
    "\n",
    "match = re.findall(pattern, text, re.ASCII)\n",
    "print(match)  # Kết quả: ['a', 'b', 'c']"
   ]
  },
  {
   "cell_type": "markdown",
   "id": "64d35d98",
   "metadata": {},
   "source": [
    "#### **3.6. `re.LOCALE` hoặc `re.L`** \n",
    "   Thay đổi cách phân loại ký tự theo thiết lập ngôn ngữ của hệ thống (locale). Tuy nhiên, flag này không được khuyến nghị sử dụng trong môi trường đa nền tảng hoặc có Unicode."
   ]
  },
  {
   "cell_type": "markdown",
   "id": "acc522f4",
   "metadata": {},
   "source": [
    "### **4. META CHARACTERS**\n",
    "|Meta character|Description|\n",
    "|:----:|----|\n",
    "|`.`|Khớp với tất cả các kí tự trừ dấu xuống dòng.|\n",
    "|`[ ]`|Lớp kí tự. Khớp với bất kỳ ký tự nào nằm giữa dấu ngoặc vuông.|\n",
    "|`[^ ]`|Lớp kí tự phủ định. Khớp với bất kỳ ký tự nào không có trong dấu ngoặc vuông.|\n",
    "|`*`|Khớp 0 hoặc nhiều lần lặp lại của kí tự trước.|\n",
    "|`+`|Khớp 1 hoặc nhiều lần lặp lại của kí tự trước.|\n",
    "|`?`|Làm cho kí tự trước tùy chọn.|\n",
    "|`{n,m}`|Braces. Khớp ít nhất là \"n\" nhưng không nhiều hơn \"m\" lặp lại của kí tự trước.|\n",
    "|`(xyz)`|Nhóm kí tự. Khớp các ký tự xyz theo thứ tự chính xác đó.|\n",
    "|`&#124;`|Thay thế. Khớp các ký tự trước hoặc ký tự sau ký hiệu.|\n",
    "|`&#92;`|Thoát khỏi kí tự tiếp theo. Điều này cho phép khớp các ký tự dành riêng <code>[ ] ( ) { } . * + ? ^ $ \\ &#124;</code>|\n",
    "|`^`|Khớp với sự bắt đầu của đầu vào.|\n",
    "|`$`|Khớp với kết thúc đầu vào.|\n",
    "| `{n}`         | Lặp lại đúng `n` lần. |\n",
    "| `()`          | Nhóm (capturing group). |\n",
    "| `(?:...)`     | Nhóm không lưu (non-capturing group). |\n",
    "| `(?P<name>...)` | Nhóm có tên (named capturing group). |\n"
   ]
  },
  {
   "cell_type": "markdown",
   "id": "03c98b56",
   "metadata": {},
   "source": [
    "#### **4.1. Assertion: `^`, `$`**\n",
    "\n",
    "- `^abc`: Khớp với chuỗi bắt đầu bằng \"abc\".\n",
    "\n",
    "- `abc$`: Khớp với chuỗi kết thúc bằng \"abc\"."
   ]
  },
  {
   "cell_type": "code",
   "execution_count": 44,
   "id": "5da00534",
   "metadata": {},
   "outputs": [
    {
     "data": {
      "text/plain": [
       "<re.Match object; span=(6, 11), match='world'>"
      ]
     },
     "execution_count": 44,
     "metadata": {},
     "output_type": "execute_result"
    }
   ],
   "source": [
    "import re\n",
    "re.match(r\"^Hi\", \"Hi there!\")  \n",
    "re.search(r\"world$\", \"hello world\")  "
   ]
  },
  {
   "cell_type": "markdown",
   "id": "b1b5ef2a",
   "metadata": {},
   "source": [
    "#### **4.2. Word Boundary: `\\b`**\n",
    "\n",
    "- `\\bword\\b`: Khớp chính xác từ \"word\", không nằm trong từ dài hơn."
   ]
  },
  {
   "cell_type": "code",
   "execution_count": 47,
   "id": "61d912a3",
   "metadata": {},
   "outputs": [
    {
     "name": "stdout",
     "output_type": "stream",
     "text": [
      "<re.Match object; span=(4, 7), match='cat'>\n",
      "None\n"
     ]
    }
   ],
   "source": [
    "print(re.search(r\"\\bcat\\b\", \"the cat\"))\n",
    "print(re.search(r\"\\bcat\\b\", \"concatenate\"))"
   ]
  },
  {
   "cell_type": "markdown",
   "id": "2814fe8b",
   "metadata": {},
   "source": [
    "#### **4.3. Character Class: `\\d`, `\\w`, `\\s`, `.`**\n",
    "\n",
    "- `\\d`: Chữ số (0-9).\n",
    "\n",
    "- `\\w`: Ký tự từ (a-z, A-Z, 0-9, _)\n",
    "\n",
    "- `\\s`: Ký tự khoảng trắng\n",
    "\n",
    "- `.`: Mọi ký tự trừ xuống dòng"
   ]
  },
  {
   "cell_type": "code",
   "execution_count": 49,
   "id": "2530dc64",
   "metadata": {},
   "outputs": [
    {
     "name": "stdout",
     "output_type": "stream",
     "text": [
      "['123']\n",
      "['Hi_123']\n"
     ]
    }
   ],
   "source": [
    "print(re.findall(r\"\\d+\", \"abc123xyz\"))      # ['123']\n",
    "print(re.findall(r\"\\w+\", \"Hi_123!\"))        # ['Hi_123']"
   ]
  },
  {
   "cell_type": "markdown",
   "id": "ec500d9c",
   "metadata": {},
   "source": [
    "#### **4.4. Sets và Ranges: `[ ]`, `[a-c]`, `[^...]`**\n",
    "\n",
    "- `[abc]`: Khớp với '`a`', '`b`' hoặc '`c`'.\n",
    "\n",
    "- `[a-z]`: Khớp với bất kỳ chữ cái thường nào.\n",
    "\n",
    "- `[^0-9]`: Khớp với bất kỳ ký tự nào không phải số."
   ]
  },
  {
   "cell_type": "code",
   "execution_count": 50,
   "id": "eb25d5cd",
   "metadata": {},
   "outputs": [
    {
     "name": "stdout",
     "output_type": "stream",
     "text": [
      "['e', 'o']\n",
      "['h', 'l', 'l']\n"
     ]
    }
   ],
   "source": [
    "print(re.findall(r\"[aeiou]\", \"hello\"))  # ['e', 'o']\n",
    "print(re.findall(r\"[^aeiou]\", \"hello\")) # ['h', 'l', 'l']"
   ]
  },
  {
   "cell_type": "markdown",
   "id": "60af040f",
   "metadata": {},
   "source": [
    "#### **4.5. Quantifiers: `*`, `+`, `?`, `{n}`**\n",
    "\n",
    "- `x*`: 0 hoặc nhiều lần\n",
    "\n",
    "- `x+`: 1 hoặc nhiều lần\n",
    "\n",
    "- `x?`: 0 hoặc 1 lần\n",
    "\n",
    "- `x{3}`: Chính xác 3 lần"
   ]
  },
  {
   "cell_type": "code",
   "execution_count": 52,
   "id": "c9b9d050",
   "metadata": {},
   "outputs": [
    {
     "name": "stdout",
     "output_type": "stream",
     "text": [
      "<re.Match object; span=(0, 0), match=''>\n",
      "<re.Match object; span=(0, 3), match='aaa'>\n",
      "<re.Match object; span=(0, 2), match='aa'>\n"
     ]
    }
   ],
   "source": [
    "print(re.fullmatch(r\"a*\", \"\"))     # ✅\n",
    "print(re.fullmatch(r\"a+\", \"aaa\"))  # ✅\n",
    "print(re.fullmatch(r\"a{2}\", \"aa\")) # ✅"
   ]
  },
  {
   "cell_type": "markdown",
   "id": "9a7fa6e8",
   "metadata": {},
   "source": [
    "#### **4.6. Greedy và Lazy Quantifiers**\n",
    "\n",
    "- `x+`, `x*`: Greedy (tham lam)\n",
    "\n",
    "- `x+?`, `x*?`: Lazy (tiết kiệm)"
   ]
  },
  {
   "cell_type": "code",
   "execution_count": 53,
   "id": "4488afbd",
   "metadata": {},
   "outputs": [
    {
     "name": "stdout",
     "output_type": "stream",
     "text": [
      "['<tag>abc</tag><tag>def</tag>']\n",
      "['<tag>abc</tag>', '<tag>def</tag>']\n"
     ]
    }
   ],
   "source": [
    "text = \"<tag>abc</tag><tag>def</tag>\"\n",
    "print(re.findall(r\"<tag>.*</tag>\", text))    # ['<tag>abc</tag><tag>def</tag>']\n",
    "print(re.findall(r\"<tag>.*?</tag>\", text))   # ['<tag>abc</tag>', '<tag>def</tag>']"
   ]
  },
  {
   "cell_type": "markdown",
   "id": "d2a288c6",
   "metadata": {},
   "source": [
    "#### **4.7. Capturing Groups và Named Groups**\n",
    "\n",
    "- `(x)`: Nhóm có lưu (capturing group)\n",
    "\n",
    "- `(?:x)`: Nhóm không lưu (non-capturing)\n",
    "\n",
    "- `(?P<name>x)` hoặc `(?<name>x)`: Nhóm có tên"
   ]
  },
  {
   "cell_type": "code",
   "execution_count": 54,
   "id": "5e63dfcf",
   "metadata": {},
   "outputs": [
    {
     "name": "stdout",
     "output_type": "stream",
     "text": [
      "123\n",
      "456\n",
      "123\n",
      "456\n"
     ]
    }
   ],
   "source": [
    "m = re.match(r\"(\\d+)-(\\d+)\", \"123-456\")\n",
    "print(m.group(1))  # '123'\n",
    "print(m.group(2))  # '456'\n",
    "\n",
    "m = re.match(r\"(?P<area>\\d+)-(?P<number>\\d+)\", \"123-456\")\n",
    "print(m.group(\"area\"))   # '123'\n",
    "print(m.group(\"number\")) # '456'\n"
   ]
  },
  {
   "cell_type": "markdown",
   "id": "9a973bc4",
   "metadata": {},
   "source": [
    "#### **4.8. Nhóm Lookaround trong Regex Python**\n",
    "\n",
    "Các nhóm *lookaround* trong regex là các biểu thức cho phép kiểm tra phần văn bản đứng trước hoặc sau một chuỗi cụ thể mà **không tiêu thụ ký tự** trong quá trình so khớp.\n",
    "\n",
    "| Nhóm Lookaround         | Cú pháp         | Mô tả                                                  |\n",
    "|-------------------------|-----------------|--------------------------------------------------------|\n",
    "| Positive Lookahead      | `(?=...)`       | Khớp nếu phía sau khớp với biểu thức `...`.            |\n",
    "| Negative Lookahead      | `(?!...)`       | Khớp nếu phía sau **không** khớp với biểu thức `...`.  |\n",
    "| Positive Lookbehind     | `(?<=...)`      | Khớp nếu phía trước khớp với biểu thức `...`.          |\n",
    "| Negative Lookbehind     | `(?<!...)`      | Khớp nếu phía trước **không** khớp với biểu thức `...`.|\n",
    "\n",
    "\n",
    "\n",
    "##### **4.8.1. Positive Lookahead `(?=...)`**"
   ]
  },
  {
   "cell_type": "code",
   "execution_count": 56,
   "id": "7707dd99",
   "metadata": {},
   "outputs": [
    {
     "name": "stdout",
     "output_type": "stream",
     "text": [
      "['apple']\n"
     ]
    }
   ],
   "source": [
    "import re\n",
    "\n",
    "text = \"apple pie and apple tart\"\n",
    "matches = re.findall(r\"apple(?=\\s+tart)\", text)\n",
    "print(matches)  # ['apple']"
   ]
  },
  {
   "cell_type": "markdown",
   "id": "bfea00f6",
   "metadata": {},
   "source": [
    "##### **4.8.2. Negative Lookahead `(?!...)`**"
   ]
  },
  {
   "cell_type": "code",
   "execution_count": 63,
   "id": "211cbf4b",
   "metadata": {},
   "outputs": [
    {
     "name": "stdout",
     "output_type": "stream",
     "text": [
      "['apple', 'apple']\n"
     ]
    }
   ],
   "source": [
    "text = \"apple pie akd tart and apple tart apple hel\"\n",
    "matches = re.findall(r\"apple(?!\\s+tart)\", text)\n",
    "print(matches)  # ['apple']"
   ]
  },
  {
   "cell_type": "markdown",
   "id": "4f547e34",
   "metadata": {},
   "source": [
    "##### **4.8.3. Positive Lookbehind `(?<=...)`**"
   ]
  },
  {
   "cell_type": "code",
   "execution_count": 57,
   "id": "ced4349b",
   "metadata": {},
   "outputs": [
    {
     "name": "stdout",
     "output_type": "stream",
     "text": [
      "['apple']\n"
     ]
    }
   ],
   "source": [
    "text = \"pie apple and tart apple\"\n",
    "matches = re.findall(r\"(?<=pie\\s)apple\", text)\n",
    "print(matches)  # ['apple']"
   ]
  },
  {
   "cell_type": "markdown",
   "id": "009aa5ef",
   "metadata": {},
   "source": [
    "##### **4.8.4. Negative Lookbehind `(?<!...)`**"
   ]
  },
  {
   "cell_type": "code",
   "execution_count": 59,
   "id": "6f01ae48",
   "metadata": {},
   "outputs": [
    {
     "data": {
      "text/plain": [
       "['100', '00']"
      ]
     },
     "execution_count": 59,
     "metadata": {},
     "output_type": "execute_result"
    }
   ],
   "source": [
    "# Negative Lookbehind: Tìm số không theo sau dấu $\n",
    "re.findall(r'(?<!\\$)\\d+', \"100 and $200\")   # Output: ['100']"
   ]
  },
  {
   "cell_type": "markdown",
   "id": "25c06e37",
   "metadata": {},
   "source": [
    "#### **4.9. Tổng kết, tóm tắt**\n",
    "\n",
    "##### **1. Ký tự khớp cơ bản**\n",
    "\n",
    "| Ký tự đặc biệt | Ý nghĩa                                     | Ghi chú      |\n",
    "|------|--------------------------------------------------------------|-----------------------------------------------------|\n",
    "| `.`  | Khớp bất kỳ ký tự nào (trừ `\\n` nếu không dùng `re.DOTALL`). | Có thể mở rộng với `re.DOTALL` để khớp cả ký tự xuống dòng.|\n",
    "| `^`  | Khớp đầu chuỗi (hoặc đầu dòng nếu dùng `MULTILINE`).         |                                                     |\n",
    "| `$`  | Khớp cuối chuỗi (hoặc cuối dòng nếu dùng `MULTILINE`).       |                                                     |\n",
    "| `\\`  | Thoát ký tự đặc biệt hoặc biểu thức đặc biệt như `\\d`, `\\w`, `\\s`...| Nên dùng raw string (`r\"pattern\"`) để tránh lỗi escape. |\n",
    "\n",
    "##### **2. Toán tử lặp (Quantifiers)**\n",
    "\n",
    "| Ký tự đặc biệt | Ý nghĩa                             | Ghi chú                       |\n",
    "|--------|-------------------------------------------|------------------------------------------------------|\n",
    "| `*`    | Khớp 0 hoặc nhiều lần.                    | `ab*` khớp `'a'`, `'ab'`, `'abb'`...                 |\n",
    "| `+`    | Khớp 1 hoặc nhiều lần.                    | `ab+` yêu cầu ít nhất một `'b'`.                     |\n",
    "| `?`    | Khớp 0 hoặc 1 lần.                        | `ab?` khớp `'a'` hoặc `'ab'`.                        |\n",
    "| `{m}`  | Khớp chính xác `m` lần.                   |                                                      |\n",
    "| `{m,n}`| Khớp từ `m` đến `n` lần (tham lam).       | `{4,}` nghĩa là từ 4 trở lên. `{,5}` không hợp lệ.   |\n",
    "\n",
    "***2.1. Phiên bản không tham lam (Non-Greedy)***\n",
    "\n",
    "| Ký tự đặc biệt | Ý nghĩa                                   | Ghi chú           |\n",
    "|----------|-------------------------------------------------|-------------------|\n",
    "| `*?`     | Phiên bản không tham lam của `*`.               |                   |\n",
    "| `+?`     | Phiên bản không tham lam của `+`.               |                   |\n",
    "| `??`     | Phiên bản không tham lam của `?`.               |                   |\n",
    "| `{m,n}?` | Phiên bản không tham lam của `{m,n}`.           |                   |\n",
    "\n",
    "***2.2. Phiên bản chiếm hữu (Possessive – Python 3.11+)***\n",
    "\n",
    "| Ký tự đặc biệt | Ý nghĩa                                         | Ghi chú                              |\n",
    "|----------------|-------------------------------------------------|--------------------------------------|\n",
    "| `*+`           | Phiên bản chiếm hữu của `*`.                    | Không backtrack nếu không khớp sau.  |\n",
    "| `++`           | Phiên bản chiếm hữu của `+`.                    |                                      |\n",
    "| `?+`           | Phiên bản chiếm hữu của `?`.                    |                                      |\n",
    "| `{m,n}+`       | Phiên bản chiếm hữu của `{m,n}`.                |                                      |\n",
    "\n",
    "#### **3. Nhóm và phân nhánh**\n",
    "\n",
    "| Ký tự đặc biệt | Ý nghĩa                                               | Ghi chú                                     |\n",
    "|----------------|--------------------------------------------------------|--------------------------------------------|\n",
    "| `( ... )`      | Nhóm có thứ tự. Có thể dùng để truy cập nội dung khớp. |                                            |\n",
    "| `(?: ... )`    | Nhóm không ghi nhớ (non-capturing).                    | Không thể dùng để truy xuất nội dung khớp. |\n",
    "| `(?P<name>...)`| Nhóm có tên. Có thể truy cập bằng `m.group('name')`.   |                                            |\n",
    "| `(?P=name)`    | Tham chiếu ngược đến nhóm có tên.                      |                                            |\n",
    "| `\\|`            | Toán tử \"hoặc\". Chọn nhánh đầu tiên khớp.              | `abc|def` khớp `'abc'` hoặc `'def'`.       |\n",
    "\n",
    "#### **4. Nhóm điều kiện và chú thích**\n",
    "\n",
    "| Ký tự đặc biệt         | Ý nghĩa                                           | Ghi chú                    |\n",
    "|------------------------|---------------------------------------------------|----------------------------|\n",
    "| `(?#...)`              | Ghi chú, không ảnh hưởng biểu thức chính.         | Ví dụ: `(?#chú thích)`     |\n",
    "| `(?(id/name)yes\\|no)`   | Điều kiện: nếu nhóm `id` hoặc `name` có tồn tại thì dùng nhánh `yes`, ngược lại `no`.|     |\n",
    "\n",
    "#### **5. Nhóm lookaround**\n",
    "\n",
    "| Ký tự đặc biệt | Ý nghĩa                                            | Ghi chú                          |\n",
    "|----------------|----------------------------------------------------|----------------------------------|\n",
    "| `(?=...)`      | Lookahead dương — kiểm tra phía sau có khớp không. | Không tiêu thụ chuỗi.            |\n",
    "| `(?!...)`      | Lookahead âm — kiểm tra phía sau KHÔNG khớp.       |                                  |\n",
    "| `(?<=...)`     | Lookbehind dương — kiểm tra phía trước có khớp.    | Biểu thức phải có độ dài cố định.|\n",
    "| `(?<!...)`     | Lookbehind âm — kiểm tra phía trước KHÔNG khớp.    |                                  |\n",
    "\n",
    "#### **6. Cờ (Flags)**\n",
    "\n",
    "| Ký tự đặc biệt        | Ý nghĩa                            | Ghi chú                                                 |\n",
    "|-----------------------|------------------------------------|---------------------------------------------------------|\n",
    "| `(?aiLmsux)`          | Bật cờ toàn cục cho biểu thức.     | Ví dụ: `(?i)` để không phân biệt hoa thường.            |\n",
    "| `(?aiLmsux-imsx:...)` | Bật/tắt cờ cục bộ trong nhóm.      | Ví dụ: `(?i:abc)` khớp `abc` không phân biệt hoa thường.|\n",
    "\n",
    "#### **7. Nhóm nguyên tử (Atomic Group – Python 3.11+)**\n",
    "\n",
    "| Ký tự đặc biệt | Ý nghĩa                                                | Ghi chú                                        |\n",
    "|----------------|--------------------------------------------------------|------------------------------------------------|\n",
    "| `(?>...)`      | Nhóm nguyên tử — khớp xong là khóa, không cho quay lui.| Hữu ích để tăng tốc hoặc ngăn backtracking sai.|\n",
    "\n",
    "#### **8. Các ký tự khớp theo tập**\n",
    "\n",
    "| Ký tự đặc biệt | Ý nghĩa                                          | Ghi chú                                      |\n",
    "|----------------|--------------------------------------------------|----------------------------------------------|\n",
    "| `[...]`        | Khớp một ký tự thuộc danh sách/khoảng.           | Ví dụ: `[a-zA-Z0-9]` khớp chữ và số.         |\n",
    "| `[^...]`       | Khớp ký tự KHÔNG thuộc danh sách.                | Ví dụ: `[^0-9]` khớp mọi ký tự không phải số.|"
   ]
  }
 ],
 "metadata": {
  "kernelspec": {
   "display_name": "LOGKL",
   "language": "python",
   "name": "python3"
  },
  "language_info": {
   "codemirror_mode": {
    "name": "ipython",
    "version": 3
   },
   "file_extension": ".py",
   "mimetype": "text/x-python",
   "name": "python",
   "nbconvert_exporter": "python",
   "pygments_lexer": "ipython3",
   "version": "3.11.2"
  }
 },
 "nbformat": 4,
 "nbformat_minor": 5
}
